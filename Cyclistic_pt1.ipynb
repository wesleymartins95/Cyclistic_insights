{
 "cells": [
  {
   "cell_type": "markdown",
   "id": "6315eccb",
   "metadata": {
    "heading_collapsed": true
   },
   "source": [
    "# Premissas\n"
   ]
  },
  {
   "cell_type": "markdown",
   "id": "80700cb7",
   "metadata": {
    "hidden": true
   },
   "source": [
    "- dados faltantes não foram coletados para preservar o anonimato segundo LGPD.\n",
    "- colunas start_station_id, end_station_id, start_station_name e end_station_name foram preenchidos com valor 0 (zero), são bikes guardadas dentro da casa do cliente.\n",
    "- colunas start_lat, start_lng, foram preenchidos com valor 0 (zero)."
   ]
  },
  {
   "cell_type": "markdown",
   "id": "c3a80b69",
   "metadata": {
    "heading_collapsed": true
   },
   "source": [
    "# 0.0 Importações"
   ]
  },
  {
   "cell_type": "code",
   "execution_count": 11,
   "id": "e6f0764c",
   "metadata": {
    "ExecuteTime": {
     "end_time": "2022-10-18T14:58:04.421137Z",
     "start_time": "2022-10-18T14:58:04.415800Z"
    },
    "hidden": true
   },
   "outputs": [],
   "source": [
    "import math\n",
    "import pandas as pd\n",
    "import seaborn as sns\n"
   ]
  },
  {
   "cell_type": "markdown",
   "id": "38be2b54",
   "metadata": {
    "heading_collapsed": true
   },
   "source": [
    "# 0.1. Carregando os dados"
   ]
  },
  {
   "cell_type": "code",
   "execution_count": 2,
   "id": "ec10c68e",
   "metadata": {
    "ExecuteTime": {
     "end_time": "2022-10-18T14:44:36.110323Z",
     "start_time": "2022-10-18T14:44:28.599154Z"
    },
    "hidden": true
   },
   "outputs": [],
   "source": [
    "df1 = pd.read_csv(\"May_2020.csv\",low_memory=False)\n",
    "df2 = pd.read_csv(\"Jun_2020.csv\",low_memory=False)\n",
    "df3 = pd.read_csv(\"Jul_2020.csv\",low_memory=False)\n",
    "df4 = pd.read_csv(\"Aug_2020.csv\",low_memory=False)\n",
    "\n",
    "\n"
   ]
  },
  {
   "cell_type": "code",
   "execution_count": 3,
   "id": "001d2c6b",
   "metadata": {
    "ExecuteTime": {
     "end_time": "2022-10-18T14:44:38.411901Z",
     "start_time": "2022-10-18T14:44:38.004751Z"
    },
    "hidden": true
   },
   "outputs": [],
   "source": [
    "data1 = pd.concat([df1,df2])\n",
    "data2 = pd.concat([df3,df4])\n",
    "\n",
    "\n",
    "\n"
   ]
  },
  {
   "cell_type": "markdown",
   "id": "e8feebcd",
   "metadata": {
    "heading_collapsed": true
   },
   "source": [
    "# 1.0. Dimensão dos dados"
   ]
  },
  {
   "cell_type": "code",
   "execution_count": 4,
   "id": "9a090b1a",
   "metadata": {
    "ExecuteTime": {
     "end_time": "2022-10-18T14:44:39.291719Z",
     "start_time": "2022-10-18T14:44:39.280857Z"
    },
    "hidden": true
   },
   "outputs": [
    {
     "name": "stdout",
     "output_type": "stream",
     "text": [
      "numero de linhas: 627161\n",
      "numero de colunas: 13\n"
     ]
    }
   ],
   "source": [
    "print('numero de linhas: {}'.format(data1.shape[0]))\n",
    "print('numero de colunas: {}'.format(data1.shape[1]))"
   ]
  },
  {
   "cell_type": "code",
   "execution_count": 5,
   "id": "c110b8d4",
   "metadata": {
    "ExecuteTime": {
     "end_time": "2022-10-18T14:44:40.872315Z",
     "start_time": "2022-10-18T14:44:40.861574Z"
    },
    "hidden": true
   },
   "outputs": [
    {
     "name": "stdout",
     "output_type": "stream",
     "text": [
      "numero de linhas: 894485\n",
      "numero de colunas: 13\n"
     ]
    }
   ],
   "source": [
    "print('numero de linhas: {}'.format(data2.shape[0]))\n",
    "\n",
    "print('numero de colunas: {}'.format(data2.shape[1]))"
   ]
  },
  {
   "cell_type": "markdown",
   "id": "d4c06cc0",
   "metadata": {
    "heading_collapsed": true
   },
   "source": [
    "# 1.1. Tipos dos dados"
   ]
  },
  {
   "cell_type": "code",
   "execution_count": 8,
   "id": "e30ae435",
   "metadata": {
    "ExecuteTime": {
     "end_time": "2022-10-18T14:51:29.047666Z",
     "start_time": "2022-10-18T14:51:28.089704Z"
    },
    "hidden": true
   },
   "outputs": [
    {
     "data": {
      "text/plain": [
       "ride_id                       object\n",
       "rideable_type                 object\n",
       "started_at            datetime64[ns]\n",
       "ended_at              datetime64[ns]\n",
       "start_station_name            object\n",
       "start_station_id               int64\n",
       "end_station_name              object\n",
       "end_station_id               float64\n",
       "start_lat                    float64\n",
       "start_lng                    float64\n",
       "end_lat                      float64\n",
       "end_lng                      float64\n",
       "member_casual                 object\n",
       "dtype: object"
      ]
     },
     "execution_count": 8,
     "metadata": {},
     "output_type": "execute_result"
    }
   ],
   "source": [
    "data1['started_at'] = pd.to_datetime(data1['started_at'])\n",
    "data1['ended_at'] = pd.to_datetime(data1['ended_at'])\n",
    "\n",
    "data1.dtypes"
   ]
  },
  {
   "cell_type": "code",
   "execution_count": 9,
   "id": "054f853e",
   "metadata": {
    "ExecuteTime": {
     "end_time": "2022-10-18T14:51:53.118852Z",
     "start_time": "2022-10-18T14:51:51.700734Z"
    },
    "hidden": true
   },
   "outputs": [
    {
     "data": {
      "text/plain": [
       "ride_id                       object\n",
       "rideable_type                 object\n",
       "started_at            datetime64[ns]\n",
       "ended_at              datetime64[ns]\n",
       "start_station_name            object\n",
       "start_station_id               int64\n",
       "end_station_name              object\n",
       "end_station_id               float64\n",
       "start_lat                    float64\n",
       "start_lng                    float64\n",
       "end_lat                      float64\n",
       "end_lng                      float64\n",
       "member_casual                 object\n",
       "dtype: object"
      ]
     },
     "execution_count": 9,
     "metadata": {},
     "output_type": "execute_result"
    }
   ],
   "source": [
    "data2['started_at'] = pd.to_datetime(data2['started_at'])\n",
    "data2['ended_at'] = pd.to_datetime(data2['ended_at'])\n",
    "\n",
    "data1.dtypes"
   ]
  },
  {
   "cell_type": "markdown",
   "id": "807232a9",
   "metadata": {
    "heading_collapsed": true
   },
   "source": [
    "# 1.1. Checando NA"
   ]
  },
  {
   "cell_type": "code",
   "execution_count": 30,
   "id": "934483c5",
   "metadata": {
    "ExecuteTime": {
     "end_time": "2022-10-18T15:28:48.396563Z",
     "start_time": "2022-10-18T15:28:48.014575Z"
    },
    "hidden": true
   },
   "outputs": [
    {
     "data": {
      "text/plain": [
       "ride_id               0\n",
       "rideable_type         0\n",
       "started_at            0\n",
       "ended_at              0\n",
       "start_station_name    0\n",
       "start_station_id      0\n",
       "end_station_name      0\n",
       "end_station_id        0\n",
       "start_lat             0\n",
       "start_lng             0\n",
       "end_lat               0\n",
       "end_lng               0\n",
       "member_casual         0\n",
       "dtype: int64"
      ]
     },
     "execution_count": 30,
     "metadata": {},
     "output_type": "execute_result"
    }
   ],
   "source": [
    "data1.isnull().sum()"
   ]
  },
  {
   "cell_type": "code",
   "execution_count": 29,
   "id": "6369e770",
   "metadata": {
    "ExecuteTime": {
     "end_time": "2022-10-18T15:28:44.386746Z",
     "start_time": "2022-10-18T15:28:44.321571Z"
    },
    "hidden": true
   },
   "outputs": [],
   "source": [
    "data1['end_station_name'] = data1['end_station_name'].fillna(\"house\")\n",
    "data1['end_station_id'] = data1['end_station_id'].fillna(0)\n",
    "data1['end_lat'] = data1['end_lat'].fillna(0)\n",
    "data1['end_lng'] = data1['end_lng'].fillna(0)"
   ]
  },
  {
   "cell_type": "code",
   "execution_count": 35,
   "id": "9048644e",
   "metadata": {
    "ExecuteTime": {
     "end_time": "2022-10-18T15:40:48.146321Z",
     "start_time": "2022-10-18T15:40:47.599769Z"
    },
    "hidden": true
   },
   "outputs": [
    {
     "data": {
      "text/plain": [
       "ride_id               0\n",
       "rideable_type         0\n",
       "started_at            0\n",
       "ended_at              0\n",
       "start_station_name    0\n",
       "start_station_id      0\n",
       "end_station_name      0\n",
       "end_station_id        0\n",
       "start_lat             0\n",
       "start_lng             0\n",
       "end_lat               0\n",
       "end_lng               0\n",
       "member_casual         0\n",
       "dtype: int64"
      ]
     },
     "execution_count": 35,
     "metadata": {},
     "output_type": "execute_result"
    }
   ],
   "source": [
    "data2.isnull().sum()"
   ]
  },
  {
   "cell_type": "code",
   "execution_count": 34,
   "id": "27324015",
   "metadata": {
    "ExecuteTime": {
     "end_time": "2022-10-18T15:40:42.329343Z",
     "start_time": "2022-10-18T15:40:42.181131Z"
    },
    "hidden": true
   },
   "outputs": [],
   "source": [
    "data2['start_station_name']=data2['start_station_name'].fillna(\"house\")\n",
    "data2['start_station_id']=data2['start_station_id'].fillna(0)\n",
    "data2['end_station_name']=data2['end_station_name'].fillna(\"house\")\n",
    "data2['end_station_id']=data2['end_station_id'].fillna(0)\n",
    "data2['end_lat']=data2['end_lat'].fillna(0)\n",
    "data2['end_lng']=data2['end_lng'].fillna(0)"
   ]
  },
  {
   "cell_type": "markdown",
   "id": "92851a60",
   "metadata": {
    "heading_collapsed": true
   },
   "source": [
    "# 1.2. Checando tipos dos dados"
   ]
  },
  {
   "cell_type": "code",
   "execution_count": 48,
   "id": "64d0b51f",
   "metadata": {
    "ExecuteTime": {
     "end_time": "2022-10-18T15:57:14.737414Z",
     "start_time": "2022-10-18T15:57:14.724016Z"
    },
    "hidden": true
   },
   "outputs": [
    {
     "data": {
      "text/plain": [
       "ride_id                       object\n",
       "rideable_type                 object\n",
       "started_at            datetime64[ns]\n",
       "ended_at              datetime64[ns]\n",
       "start_station_name            object\n",
       "start_station_id               int64\n",
       "end_station_name              object\n",
       "end_station_id                 int32\n",
       "start_lat                    float64\n",
       "start_lng                    float64\n",
       "end_lat                      float64\n",
       "end_lng                      float64\n",
       "member_casual                 object\n",
       "dtype: object"
      ]
     },
     "execution_count": 48,
     "metadata": {},
     "output_type": "execute_result"
    }
   ],
   "source": [
    "data1.dtypes"
   ]
  },
  {
   "cell_type": "code",
   "execution_count": 56,
   "id": "1d055deb",
   "metadata": {
    "ExecuteTime": {
     "end_time": "2022-10-18T16:04:06.717844Z",
     "start_time": "2022-10-18T16:04:06.706327Z"
    },
    "hidden": true
   },
   "outputs": [],
   "source": [
    "data1['end_station_id']= data1['end_station_id'].astype('int64')\n"
   ]
  },
  {
   "cell_type": "code",
   "execution_count": 55,
   "id": "95134e7f",
   "metadata": {
    "ExecuteTime": {
     "end_time": "2022-10-18T16:03:52.259436Z",
     "start_time": "2022-10-18T16:03:52.246590Z"
    },
    "hidden": true
   },
   "outputs": [
    {
     "data": {
      "text/plain": [
       "ride_id                       object\n",
       "rideable_type                 object\n",
       "started_at            datetime64[ns]\n",
       "ended_at              datetime64[ns]\n",
       "start_station_name            object\n",
       "start_station_id               int64\n",
       "end_station_name              object\n",
       "end_station_id                 int64\n",
       "start_lat                    float64\n",
       "start_lng                    float64\n",
       "end_lat                      float64\n",
       "end_lng                      float64\n",
       "member_casual                 object\n",
       "dtype: object"
      ]
     },
     "execution_count": 55,
     "metadata": {},
     "output_type": "execute_result"
    }
   ],
   "source": [
    "data2.dtypes"
   ]
  },
  {
   "cell_type": "code",
   "execution_count": 54,
   "id": "4af6a6df",
   "metadata": {
    "ExecuteTime": {
     "end_time": "2022-10-18T16:03:49.164758Z",
     "start_time": "2022-10-18T16:03:49.145001Z"
    },
    "hidden": true
   },
   "outputs": [],
   "source": [
    "data2['end_station_id']= data2['end_station_id'].astype('int64')\n",
    "data2['start_station_id']= data2['start_station_id'].astype('int64')\n"
   ]
  }
 ],
 "metadata": {
  "hide_input": false,
  "kernelspec": {
   "display_name": "Python 3 (ipykernel)",
   "language": "python",
   "name": "python3"
  },
  "language_info": {
   "codemirror_mode": {
    "name": "ipython",
    "version": 3
   },
   "file_extension": ".py",
   "mimetype": "text/x-python",
   "name": "python",
   "nbconvert_exporter": "python",
   "pygments_lexer": "ipython3",
   "version": "3.10.6"
  }
 },
 "nbformat": 4,
 "nbformat_minor": 5
}
