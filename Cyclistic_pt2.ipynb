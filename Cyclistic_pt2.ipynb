{
 "cells": [
  {
   "cell_type": "markdown",
   "id": "c3a80b69",
   "metadata": {
    "heading_collapsed": true
   },
   "source": [
    "# 0.0 Importações"
   ]
  },
  {
   "cell_type": "code",
   "execution_count": 1,
   "id": "e6f0764c",
   "metadata": {
    "ExecuteTime": {
     "end_time": "2022-11-03T19:29:15.393794Z",
     "start_time": "2022-11-03T19:29:09.161867Z"
    },
    "hidden": true
   },
   "outputs": [],
   "source": [
    "import pandas as pd\n",
    "import numpy as np\n",
    "import seaborn as sns\n",
    "import matplotlib.pyplot as plt\n",
    "from IPython.display import Image\n",
    "from datetime import datetime"
   ]
  },
  {
   "cell_type": "markdown",
   "id": "38be2b54",
   "metadata": {
    "heading_collapsed": true,
    "hidden": true
   },
   "source": [
    "## 0.1. Carregando os dados"
   ]
  },
  {
   "cell_type": "code",
   "execution_count": 2,
   "id": "ec10c68e",
   "metadata": {
    "ExecuteTime": {
     "end_time": "2022-11-03T19:29:41.681155Z",
     "start_time": "2022-11-03T19:29:15.393794Z"
    },
    "hidden": true
   },
   "outputs": [],
   "source": [
    "df1 = pd.read_csv(\"datasets/May_2020.csv\",low_memory=False)\n",
    "df2 = pd.read_csv(\"datasets/Jun_2020.csv\",low_memory=False)\n",
    "df3 = pd.read_csv(\"datasets/Jul_2020.csv\",low_memory=False)\n",
    "df4 = pd.read_csv(\"datasets/Aug_2020.csv\",low_memory=False)\n",
    "df5 = pd.read_csv(\"datasets/Sep_2020.csv\",low_memory=False)\n",
    "df6 = pd.read_csv(\"datasets/Oct_2020.csv\",low_memory=False)\n",
    "df7 = pd.read_csv(\"datasets/Nov_2020.csv\",low_memory=False)\n",
    "df8 = pd.read_csv(\"datasets/Dec_2020.csv\",low_memory=False)\n",
    "\n",
    "\n"
   ]
  },
  {
   "cell_type": "code",
   "execution_count": 3,
   "id": "001d2c6b",
   "metadata": {
    "ExecuteTime": {
     "end_time": "2022-11-03T19:29:41.713160Z",
     "start_time": "2022-11-03T19:29:41.681155Z"
    },
    "hidden": true
   },
   "outputs": [],
   "source": [
    "list_df = [df1,df2,df3,df4,df5,df6,df7,df8]"
   ]
  },
  {
   "cell_type": "code",
   "execution_count": 4,
   "id": "b6faa39a",
   "metadata": {
    "ExecuteTime": {
     "end_time": "2022-11-03T19:29:42.801218Z",
     "start_time": "2022-11-03T19:29:41.722924Z"
    },
    "hidden": true
   },
   "outputs": [],
   "source": [
    "data3 = pd.concat(list_df, axis = 0, ignore_index = True)\n"
   ]
  },
  {
   "cell_type": "markdown",
   "id": "e8feebcd",
   "metadata": {
    "heading_collapsed": true
   },
   "source": [
    "# 1.0. Descrição dos dados"
   ]
  },
  {
   "cell_type": "markdown",
   "id": "ebb4eacc",
   "metadata": {
    "heading_collapsed": true,
    "hidden": true
   },
   "source": [
    "## 1.1. Dimensão dos dados"
   ]
  },
  {
   "cell_type": "code",
   "execution_count": 5,
   "id": "9a090b1a",
   "metadata": {
    "ExecuteTime": {
     "end_time": "2022-11-03T19:29:42.828123Z",
     "start_time": "2022-11-03T19:29:42.809303Z"
    },
    "hidden": true
   },
   "outputs": [
    {
     "name": "stdout",
     "output_type": "stream",
     "text": [
      "numero de linhas: 3325334\n",
      "numero de colunas: 13\n"
     ]
    }
   ],
   "source": [
    "print('numero de linhas: {}'.format(data3.shape[0]))\n",
    "print('numero de colunas: {}'.format(data3.shape[1]))"
   ]
  },
  {
   "cell_type": "markdown",
   "id": "d4c06cc0",
   "metadata": {
    "heading_collapsed": true,
    "hidden": true
   },
   "source": [
    "## 1.2. Tipos dos dados"
   ]
  },
  {
   "cell_type": "code",
   "execution_count": 6,
   "id": "e30ae435",
   "metadata": {
    "ExecuteTime": {
     "end_time": "2022-11-03T19:29:42.887483Z",
     "start_time": "2022-11-03T19:29:42.834805Z"
    },
    "hidden": true
   },
   "outputs": [
    {
     "data": {
      "text/plain": [
       "ride_id                object\n",
       "rideable_type          object\n",
       "started_at             object\n",
       "ended_at               object\n",
       "start_station_name     object\n",
       "start_station_id      float64\n",
       "end_station_name       object\n",
       "end_station_id        float64\n",
       "start_lat             float64\n",
       "start_lng             float64\n",
       "end_lat               float64\n",
       "end_lng               float64\n",
       "member_casual          object\n",
       "dtype: object"
      ]
     },
     "execution_count": 6,
     "metadata": {},
     "output_type": "execute_result"
    }
   ],
   "source": [
    "data3.dtypes"
   ]
  },
  {
   "cell_type": "code",
   "execution_count": 7,
   "id": "88701c5d",
   "metadata": {
    "ExecuteTime": {
     "end_time": "2022-11-03T19:29:44.630344Z",
     "start_time": "2022-11-03T19:29:42.892332Z"
    },
    "hidden": true
   },
   "outputs": [],
   "source": [
    "data3= data3.rename(columns={'member_casual':'user_type'})\n"
   ]
  },
  {
   "cell_type": "markdown",
   "id": "807232a9",
   "metadata": {
    "hidden": true
   },
   "source": [
    "## 1.3. Checando NA"
   ]
  },
  {
   "cell_type": "code",
   "execution_count": 8,
   "id": "934483c5",
   "metadata": {
    "ExecuteTime": {
     "end_time": "2022-11-03T19:29:51.775759Z",
     "start_time": "2022-11-03T19:29:44.636812Z"
    },
    "hidden": true
   },
   "outputs": [
    {
     "data": {
      "text/plain": [
       "ride_id                   0\n",
       "rideable_type             0\n",
       "started_at                0\n",
       "ended_at                  0\n",
       "start_station_name    82957\n",
       "start_station_id      83583\n",
       "end_station_name      97545\n",
       "end_station_id        98006\n",
       "start_lat                 0\n",
       "start_lng                 0\n",
       "end_lat                4045\n",
       "end_lng                4045\n",
       "user_type                 0\n",
       "dtype: int64"
      ]
     },
     "execution_count": 8,
     "metadata": {},
     "output_type": "execute_result"
    }
   ],
   "source": [
    "data3.isnull().sum()"
   ]
  },
  {
   "cell_type": "code",
   "execution_count": 9,
   "id": "6369e770",
   "metadata": {
    "ExecuteTime": {
     "end_time": "2022-11-03T19:29:56.363131Z",
     "start_time": "2022-11-03T19:29:51.776760Z"
    },
    "hidden": true
   },
   "outputs": [],
   "source": [
    "for i in data3:\n",
    "    if i in ['start_station_name', 'end_station_name']:\n",
    "        data3[i] = data3[i].fillna('Unknown')\n",
    "    elif i in ['start_station_id', 'end_station_id']:\n",
    "        data3[i] = data3[i].fillna(0)\n",
    "    elif i in ['end_lat', 'end_lng']:\n",
    "        data3.dropna(subset=['end_lat', 'end_lng'], inplace=True)"
   ]
  },
  {
   "cell_type": "markdown",
   "id": "92851a60",
   "metadata": {
    "hidden": true
   },
   "source": [
    "## 1.4. Checando tipos dos dados"
   ]
  },
  {
   "cell_type": "code",
   "execution_count": 10,
   "id": "d653e83b",
   "metadata": {
    "ExecuteTime": {
     "end_time": "2022-11-03T19:29:56.404935Z",
     "start_time": "2022-11-03T19:29:56.383054Z"
    },
    "hidden": true
   },
   "outputs": [
    {
     "data": {
      "text/plain": [
       "ride_id                object\n",
       "rideable_type          object\n",
       "started_at             object\n",
       "ended_at               object\n",
       "start_station_name     object\n",
       "start_station_id      float64\n",
       "end_station_name       object\n",
       "end_station_id        float64\n",
       "start_lat             float64\n",
       "start_lng             float64\n",
       "end_lat               float64\n",
       "end_lng               float64\n",
       "user_type              object\n",
       "dtype: object"
      ]
     },
     "execution_count": 10,
     "metadata": {},
     "output_type": "execute_result"
    }
   ],
   "source": [
    "data3.dtypes"
   ]
  },
  {
   "cell_type": "code",
   "execution_count": 11,
   "id": "1d055deb",
   "metadata": {
    "ExecuteTime": {
     "end_time": "2022-11-03T19:30:07.984102Z",
     "start_time": "2022-11-03T19:29:56.414434Z"
    },
    "hidden": true
   },
   "outputs": [],
   "source": [
    "data3['start_station_id']= data3['start_station_id'].astype('int64')\n",
    "data3['end_station_id']= data3['end_station_id'].astype('int64')\n",
    "data3['start_lat']= data3['start_lat'].astype(float)\n",
    "data3['start_lng']= data3['start_lng'].astype(float)\n",
    "data3['end_lat']= data3['end_lat'].astype(float)\n",
    "data3['end_lng']= data3['end_lng'].astype(float)\n",
    "data3['started_at']= pd.to_datetime(data3['started_at'])\n",
    "data3['ended_at']= pd.to_datetime(data3['ended_at'])"
   ]
  },
  {
   "cell_type": "markdown",
   "id": "2c76250e",
   "metadata": {},
   "source": [
    "# 2.0 Feature Engineering"
   ]
  },
  {
   "cell_type": "markdown",
   "id": "a977cb67",
   "metadata": {},
   "source": [
    "## 2.1 Lista de hipoteses"
   ]
  },
  {
   "cell_type": "markdown",
   "id": "9c77a6cf",
   "metadata": {
    "ExecuteTime": {
     "end_time": "2022-10-18T19:06:06.361177Z",
     "start_time": "2022-10-18T19:06:06.331225Z"
    }
   },
   "source": [
    "**1.** Usuarios que utilizam as bikes eletricas gastam menos tempo em viagem.\n",
    "\n",
    "**2.** Bikes elétricas são mais usadas.\n",
    "\n",
    "**3.** No verão a frequencia de usuarios aumentam 30%.\n",
    "\n",
    "**4.** No inverno a frequencia de usuarios caem 30%.\n",
    "\n",
    "**5.** No verão as estações de bikes aumentam 40%.\n",
    "\n",
    "**6.** Nos finais de semana a porcentagem de usuários aumentam em 50%.\n",
    "\n",
    "**7.** Nos finais de semana a porcentagem de usuários aumentam em 50%.\n",
    "\n",
    "**8.** A cada mês há um aumento de 10% de usuários ativos.\n",
    "\n",
    "**9.** Os horarios de pico de usuario é as 6:00am e 18:00.\n",
    "\n",
    "**10.** Os usuarios casuais gastam mais tempo em viagem, em média, do que os membros anuais.\n",
    "\n",
    "\n",
    "\n",
    "\n",
    "\n"
   ]
  },
  {
   "cell_type": "markdown",
   "id": "6fc0e666",
   "metadata": {
    "heading_collapsed": true
   },
   "source": [
    "## 2.4 Feature Engineering"
   ]
  },
  {
   "cell_type": "code",
   "execution_count": 12,
   "id": "14b3debd",
   "metadata": {
    "ExecuteTime": {
     "end_time": "2022-11-03T19:32:09.368928Z",
     "start_time": "2022-11-03T19:30:07.994985Z"
    },
    "hidden": true
   },
   "outputs": [],
   "source": [
    "#ano\n",
    "data3['year']=data3['started_at'].dt.year\n",
    "\n",
    "#mês\n",
    "data3['month']=data3['started_at'].dt.month\n",
    "\n",
    "#dia\n",
    "data3['day']=data3['started_at'].dt.day\n",
    "\n",
    "##tipo da semana : final de semana ou semana comum  Segunda=0, Domingo=6.\n",
    "data3['type_week_numeric']=data3['started_at'].dt.weekday\n",
    "data3['type_week_categoric']= data3['type_week_numeric'].apply(lambda x: \"weekday\" if x < 5 else \"weekend\")\n",
    "\n",
    "#duração da viagem em minutos\n",
    "\n",
    "data3['trip_duration'] = data3['ended_at'] - data3['started_at'] \n",
    "data3['trip_duration']= round(data3['trip_duration'].astype('timedelta64[s]') /60)\n",
    "\n",
    "# hora do inicio da viagem\n",
    "data3['started_at']= data3['started_at'].dt.strftime(\"%H\")\n",
    "data3['ended_at']= data3['ended_at'].dt.strftime(\"%H\")\n",
    "list_ = [data3['started_at'],data3['ended_at']]\n",
    "data3['trip_start_hour'] = pd.concat(list_, axis = 0, ignore_index = True)\n",
    "\n",
    "\n",
    "\n",
    "#estacoes do ano categorica\n",
    "data3['season']= data3['month'].apply(lambda x: \"spring\" if (x >=3) & (x<=5) else\n",
    "                                                      \"summer\" if (x>=6) & (x<=8) else\n",
    "                                                       \"fall\" if (x>=9) & (x<= 11) else\n",
    "                                                       \"winter\")\n",
    "#estacoes do ano Numerica\n",
    "#data3['season_numeric']= data3['month'].apply(lambda x: 1 if (x == 'spring') else\n",
    "                                                       # 2 if (x == 'summer') else\n",
    "                                                       # 3 if (x == \"fall\") else\n",
    "                                                       # 4)"
   ]
  },
  {
   "cell_type": "code",
   "execution_count": 13,
   "id": "1e49938a",
   "metadata": {
    "ExecuteTime": {
     "end_time": "2022-11-03T19:32:09.986420Z",
     "start_time": "2022-11-03T19:32:09.373679Z"
    },
    "hidden": true
   },
   "outputs": [],
   "source": [
    "# Criando função que calcula a distancia entre dois pontos\n",
    "\n",
    "def haversine_np(lon1, lat1, lon2, lat2):\n",
    "    lon1, lat1, lon2, lat2 = map(np.radians, [lon1, lat1, lon2, lat2])\n",
    "\n",
    "    dlon = lon2 - lon1\n",
    "    dlat = lat2 - lat1\n",
    "\n",
    "    a = np.sin(dlat/2.0)**2 + np.cos(lat1) * np.cos(lat2) * np.sin(dlon/2.0)**2\n",
    "    c = 2 * np.arcsin(np.sqrt(a))\n",
    "    km = 6367 * c\n",
    "    \n",
    "    return km\n",
    "\n",
    "# Add new column with the distance between points\n",
    "distance_km = haversine_np(data3['start_lng'], data3['start_lat'], data3['end_lng'], data3['end_lat'])\n",
    "\n",
    "data3.insert(10, 'ride_distance_km', distance_km)"
   ]
  },
  {
   "cell_type": "markdown",
   "id": "4bfb7673",
   "metadata": {
    "heading_collapsed": true
   },
   "source": [
    "# 3.0. Filtragem de Váriaveis"
   ]
  },
  {
   "cell_type": "markdown",
   "id": "f01a6545",
   "metadata": {
    "hidden": true
   },
   "source": [
    "## 3.1. Filtragem de Colunas"
   ]
  },
  {
   "cell_type": "code",
   "execution_count": 68,
   "id": "8e6a85cd",
   "metadata": {
    "ExecuteTime": {
     "end_time": "2022-11-03T19:52:06.569554Z",
     "start_time": "2022-11-03T19:52:04.769717Z"
    },
    "hidden": true
   },
   "outputs": [],
   "source": [
    "data_filters = data3.copy()"
   ]
  },
  {
   "cell_type": "code",
   "execution_count": 69,
   "id": "3b925f05",
   "metadata": {
    "ExecuteTime": {
     "end_time": "2022-11-03T19:52:06.587828Z",
     "start_time": "2022-11-03T19:52:06.574504Z"
    },
    "hidden": true
   },
   "outputs": [],
   "source": [
    "#apagar colunas\n",
    "#cols_drop = ['started_at','ended_at']\n",
    "#data_cols_drop= data_cols_drop.drop(cols_drop,axis=1)"
   ]
  },
  {
   "cell_type": "code",
   "execution_count": 70,
   "id": "f047992f",
   "metadata": {
    "ExecuteTime": {
     "end_time": "2022-11-03T19:52:07.860373Z",
     "start_time": "2022-11-03T19:52:06.592306Z"
    },
    "hidden": true
   },
   "outputs": [],
   "source": [
    "data_filters=data_filters[['ride_id','rideable_type','start_station_name','end_station_name','user_type','day','month','type_week_categoric','season','trip_start_hour','ride_distance_km','trip_duration','start_lat','start_lng','end_lat','end_lng']].reset_index()"
   ]
  },
  {
   "cell_type": "code",
   "execution_count": 71,
   "id": "89d4fdd1",
   "metadata": {
    "ExecuteTime": {
     "end_time": "2022-11-03T19:52:07.900259Z",
     "start_time": "2022-11-03T19:52:07.866499Z"
    },
    "hidden": true
   },
   "outputs": [
    {
     "data": {
      "text/plain": [
       "index                    int64\n",
       "ride_id                 object\n",
       "rideable_type           object\n",
       "start_station_name      object\n",
       "end_station_name        object\n",
       "user_type               object\n",
       "day                      int64\n",
       "month                    int64\n",
       "type_week_categoric     object\n",
       "season                  object\n",
       "trip_start_hour         object\n",
       "ride_distance_km       float64\n",
       "trip_duration          float64\n",
       "start_lat              float64\n",
       "start_lng              float64\n",
       "end_lat                float64\n",
       "end_lng                float64\n",
       "dtype: object"
      ]
     },
     "execution_count": 71,
     "metadata": {},
     "output_type": "execute_result"
    }
   ],
   "source": [
    "data_filters.dtypes"
   ]
  },
  {
   "cell_type": "markdown",
   "id": "c91e3ee0",
   "metadata": {
    "hidden": true
   },
   "source": [
    "## 3.2. Filtragem de Linhas"
   ]
  },
  {
   "cell_type": "code",
   "execution_count": 72,
   "id": "347cc7c1",
   "metadata": {
    "ExecuteTime": {
     "end_time": "2022-11-03T19:52:13.504969Z",
     "start_time": "2022-11-03T19:52:12.631422Z"
    },
    "hidden": true
   },
   "outputs": [
    {
     "data": {
      "text/html": [
       "<div>\n",
       "<style scoped>\n",
       "    .dataframe tbody tr th:only-of-type {\n",
       "        vertical-align: middle;\n",
       "    }\n",
       "\n",
       "    .dataframe tbody tr th {\n",
       "        vertical-align: top;\n",
       "    }\n",
       "\n",
       "    .dataframe thead th {\n",
       "        text-align: right;\n",
       "    }\n",
       "</style>\n",
       "<table border=\"1\" class=\"dataframe\">\n",
       "  <thead>\n",
       "    <tr style=\"text-align: right;\">\n",
       "      <th></th>\n",
       "      <th>index</th>\n",
       "      <th>ride_id</th>\n",
       "      <th>rideable_type</th>\n",
       "      <th>start_station_name</th>\n",
       "      <th>end_station_name</th>\n",
       "      <th>user_type</th>\n",
       "      <th>day</th>\n",
       "      <th>month</th>\n",
       "      <th>type_week_categoric</th>\n",
       "      <th>season</th>\n",
       "      <th>trip_start_hour</th>\n",
       "      <th>ride_distance_km</th>\n",
       "      <th>trip_duration</th>\n",
       "      <th>start_lat</th>\n",
       "      <th>start_lng</th>\n",
       "      <th>end_lat</th>\n",
       "      <th>end_lng</th>\n",
       "    </tr>\n",
       "  </thead>\n",
       "  <tbody>\n",
       "    <tr>\n",
       "      <th>0</th>\n",
       "      <td>0</td>\n",
       "      <td>EACB19130B0CDA4A</td>\n",
       "      <td>docked_bike</td>\n",
       "      <td>Western Ave &amp; Leland Ave</td>\n",
       "      <td>Clark St &amp; Leland Ave</td>\n",
       "      <td>member</td>\n",
       "      <td>21</td>\n",
       "      <td>1</td>\n",
       "      <td>weekday</td>\n",
       "      <td>winter</td>\n",
       "      <td>20</td>\n",
       "      <td>1.736408</td>\n",
       "      <td>8.0</td>\n",
       "      <td>41.966500</td>\n",
       "      <td>-87.688400</td>\n",
       "      <td>41.967100</td>\n",
       "      <td>-87.667400</td>\n",
       "    </tr>\n",
       "    <tr>\n",
       "      <th>1</th>\n",
       "      <td>1</td>\n",
       "      <td>8FED874C809DC021</td>\n",
       "      <td>docked_bike</td>\n",
       "      <td>Clark St &amp; Montrose Ave</td>\n",
       "      <td>Southport Ave &amp; Irving Park Rd</td>\n",
       "      <td>member</td>\n",
       "      <td>30</td>\n",
       "      <td>1</td>\n",
       "      <td>weekday</td>\n",
       "      <td>winter</td>\n",
       "      <td>14</td>\n",
       "      <td>0.832887</td>\n",
       "      <td>4.0</td>\n",
       "      <td>41.961600</td>\n",
       "      <td>-87.666000</td>\n",
       "      <td>41.954200</td>\n",
       "      <td>-87.664400</td>\n",
       "    </tr>\n",
       "    <tr>\n",
       "      <th>2</th>\n",
       "      <td>2</td>\n",
       "      <td>789F3C21E472CA96</td>\n",
       "      <td>docked_bike</td>\n",
       "      <td>Broadway &amp; Belmont Ave</td>\n",
       "      <td>Wilton Ave &amp; Belmont Ave</td>\n",
       "      <td>member</td>\n",
       "      <td>9</td>\n",
       "      <td>1</td>\n",
       "      <td>weekday</td>\n",
       "      <td>winter</td>\n",
       "      <td>19</td>\n",
       "      <td>0.620047</td>\n",
       "      <td>3.0</td>\n",
       "      <td>41.940100</td>\n",
       "      <td>-87.645500</td>\n",
       "      <td>41.940200</td>\n",
       "      <td>-87.653000</td>\n",
       "    </tr>\n",
       "    <tr>\n",
       "      <th>3</th>\n",
       "      <td>3</td>\n",
       "      <td>C9A388DAC6ABF313</td>\n",
       "      <td>docked_bike</td>\n",
       "      <td>Clark St &amp; Randolph St</td>\n",
       "      <td>Fairbanks Ct &amp; Grand Ave</td>\n",
       "      <td>member</td>\n",
       "      <td>6</td>\n",
       "      <td>1</td>\n",
       "      <td>weekday</td>\n",
       "      <td>winter</td>\n",
       "      <td>16</td>\n",
       "      <td>1.230463</td>\n",
       "      <td>9.0</td>\n",
       "      <td>41.884600</td>\n",
       "      <td>-87.631900</td>\n",
       "      <td>41.891800</td>\n",
       "      <td>-87.620600</td>\n",
       "    </tr>\n",
       "    <tr>\n",
       "      <th>4</th>\n",
       "      <td>4</td>\n",
       "      <td>943BC3CBECCFD662</td>\n",
       "      <td>docked_bike</td>\n",
       "      <td>Clinton St &amp; Lake St</td>\n",
       "      <td>Wells St &amp; Hubbard St</td>\n",
       "      <td>member</td>\n",
       "      <td>30</td>\n",
       "      <td>1</td>\n",
       "      <td>weekday</td>\n",
       "      <td>winter</td>\n",
       "      <td>08</td>\n",
       "      <td>0.783132</td>\n",
       "      <td>6.0</td>\n",
       "      <td>41.885600</td>\n",
       "      <td>-87.641800</td>\n",
       "      <td>41.889900</td>\n",
       "      <td>-87.634300</td>\n",
       "    </tr>\n",
       "    <tr>\n",
       "      <th>...</th>\n",
       "      <td>...</td>\n",
       "      <td>...</td>\n",
       "      <td>...</td>\n",
       "      <td>...</td>\n",
       "      <td>...</td>\n",
       "      <td>...</td>\n",
       "      <td>...</td>\n",
       "      <td>...</td>\n",
       "      <td>...</td>\n",
       "      <td>...</td>\n",
       "      <td>...</td>\n",
       "      <td>...</td>\n",
       "      <td>...</td>\n",
       "      <td>...</td>\n",
       "      <td>...</td>\n",
       "      <td>...</td>\n",
       "      <td>...</td>\n",
       "    </tr>\n",
       "    <tr>\n",
       "      <th>3321284</th>\n",
       "      <td>3325329</td>\n",
       "      <td>A9FA0D0987E7622B</td>\n",
       "      <td>docked_bike</td>\n",
       "      <td>Wentworth Ave &amp; Cermak Rd</td>\n",
       "      <td>Michigan Ave &amp; 18th St</td>\n",
       "      <td>member</td>\n",
       "      <td>20</td>\n",
       "      <td>11</td>\n",
       "      <td>weekday</td>\n",
       "      <td>fall</td>\n",
       "      <td>08</td>\n",
       "      <td>0.805845</td>\n",
       "      <td>4.0</td>\n",
       "      <td>41.853084</td>\n",
       "      <td>-87.631931</td>\n",
       "      <td>41.857813</td>\n",
       "      <td>-87.624550</td>\n",
       "    </tr>\n",
       "    <tr>\n",
       "      <th>3321285</th>\n",
       "      <td>3325330</td>\n",
       "      <td>4C5FE357D0F8F9B2</td>\n",
       "      <td>docked_bike</td>\n",
       "      <td>Michigan Ave &amp; 18th St</td>\n",
       "      <td>Indiana Ave &amp; 26th St</td>\n",
       "      <td>member</td>\n",
       "      <td>2</td>\n",
       "      <td>11</td>\n",
       "      <td>weekday</td>\n",
       "      <td>fall</td>\n",
       "      <td>18</td>\n",
       "      <td>1.358343</td>\n",
       "      <td>7.0</td>\n",
       "      <td>41.857813</td>\n",
       "      <td>-87.624550</td>\n",
       "      <td>41.845687</td>\n",
       "      <td>-87.622481</td>\n",
       "    </tr>\n",
       "    <tr>\n",
       "      <th>3321286</th>\n",
       "      <td>3325331</td>\n",
       "      <td>46867105425F25E3</td>\n",
       "      <td>docked_bike</td>\n",
       "      <td>Lake Shore Dr &amp; Monroe St</td>\n",
       "      <td>Theater on the Lake</td>\n",
       "      <td>member</td>\n",
       "      <td>7</td>\n",
       "      <td>11</td>\n",
       "      <td>weekend</td>\n",
       "      <td>fall</td>\n",
       "      <td>17</td>\n",
       "      <td>5.169169</td>\n",
       "      <td>31.0</td>\n",
       "      <td>41.880958</td>\n",
       "      <td>-87.616743</td>\n",
       "      <td>41.926277</td>\n",
       "      <td>-87.630834</td>\n",
       "    </tr>\n",
       "    <tr>\n",
       "      <th>3321287</th>\n",
       "      <td>3325332</td>\n",
       "      <td>2830FAF63F52A386</td>\n",
       "      <td>docked_bike</td>\n",
       "      <td>Michigan Ave &amp; 18th St</td>\n",
       "      <td>Michigan Ave &amp; 18th St</td>\n",
       "      <td>member</td>\n",
       "      <td>8</td>\n",
       "      <td>11</td>\n",
       "      <td>weekend</td>\n",
       "      <td>fall</td>\n",
       "      <td>20</td>\n",
       "      <td>0.000000</td>\n",
       "      <td>24.0</td>\n",
       "      <td>41.857813</td>\n",
       "      <td>-87.624550</td>\n",
       "      <td>41.857813</td>\n",
       "      <td>-87.624550</td>\n",
       "    </tr>\n",
       "    <tr>\n",
       "      <th>3321288</th>\n",
       "      <td>3325333</td>\n",
       "      <td>1F63CF7D89D892BF</td>\n",
       "      <td>docked_bike</td>\n",
       "      <td>Lincoln Ave &amp; Sunnyside Ave</td>\n",
       "      <td>Lincoln Ave &amp; Belle Plaine Ave</td>\n",
       "      <td>casual</td>\n",
       "      <td>7</td>\n",
       "      <td>11</td>\n",
       "      <td>weekend</td>\n",
       "      <td>fall</td>\n",
       "      <td>17</td>\n",
       "      <td>0.866539</td>\n",
       "      <td>9.0</td>\n",
       "      <td>41.963004</td>\n",
       "      <td>-87.684781</td>\n",
       "      <td>41.956004</td>\n",
       "      <td>-87.680161</td>\n",
       "    </tr>\n",
       "  </tbody>\n",
       "</table>\n",
       "<p>3274898 rows × 17 columns</p>\n",
       "</div>"
      ],
      "text/plain": [
       "           index           ride_id rideable_type           start_station_name  \\\n",
       "0              0  EACB19130B0CDA4A   docked_bike     Western Ave & Leland Ave   \n",
       "1              1  8FED874C809DC021   docked_bike      Clark St & Montrose Ave   \n",
       "2              2  789F3C21E472CA96   docked_bike       Broadway & Belmont Ave   \n",
       "3              3  C9A388DAC6ABF313   docked_bike       Clark St & Randolph St   \n",
       "4              4  943BC3CBECCFD662   docked_bike         Clinton St & Lake St   \n",
       "...          ...               ...           ...                          ...   \n",
       "3321284  3325329  A9FA0D0987E7622B   docked_bike    Wentworth Ave & Cermak Rd   \n",
       "3321285  3325330  4C5FE357D0F8F9B2   docked_bike       Michigan Ave & 18th St   \n",
       "3321286  3325331  46867105425F25E3   docked_bike    Lake Shore Dr & Monroe St   \n",
       "3321287  3325332  2830FAF63F52A386   docked_bike       Michigan Ave & 18th St   \n",
       "3321288  3325333  1F63CF7D89D892BF   docked_bike  Lincoln Ave & Sunnyside Ave   \n",
       "\n",
       "                       end_station_name user_type  day  month  \\\n",
       "0                 Clark St & Leland Ave    member   21      1   \n",
       "1        Southport Ave & Irving Park Rd    member   30      1   \n",
       "2              Wilton Ave & Belmont Ave    member    9      1   \n",
       "3              Fairbanks Ct & Grand Ave    member    6      1   \n",
       "4                 Wells St & Hubbard St    member   30      1   \n",
       "...                                 ...       ...  ...    ...   \n",
       "3321284          Michigan Ave & 18th St    member   20     11   \n",
       "3321285           Indiana Ave & 26th St    member    2     11   \n",
       "3321286             Theater on the Lake    member    7     11   \n",
       "3321287          Michigan Ave & 18th St    member    8     11   \n",
       "3321288  Lincoln Ave & Belle Plaine Ave    casual    7     11   \n",
       "\n",
       "        type_week_categoric  season trip_start_hour  ride_distance_km  \\\n",
       "0                   weekday  winter              20          1.736408   \n",
       "1                   weekday  winter              14          0.832887   \n",
       "2                   weekday  winter              19          0.620047   \n",
       "3                   weekday  winter              16          1.230463   \n",
       "4                   weekday  winter              08          0.783132   \n",
       "...                     ...     ...             ...               ...   \n",
       "3321284             weekday    fall              08          0.805845   \n",
       "3321285             weekday    fall              18          1.358343   \n",
       "3321286             weekend    fall              17          5.169169   \n",
       "3321287             weekend    fall              20          0.000000   \n",
       "3321288             weekend    fall              17          0.866539   \n",
       "\n",
       "         trip_duration  start_lat  start_lng    end_lat    end_lng  \n",
       "0                  8.0  41.966500 -87.688400  41.967100 -87.667400  \n",
       "1                  4.0  41.961600 -87.666000  41.954200 -87.664400  \n",
       "2                  3.0  41.940100 -87.645500  41.940200 -87.653000  \n",
       "3                  9.0  41.884600 -87.631900  41.891800 -87.620600  \n",
       "4                  6.0  41.885600 -87.641800  41.889900 -87.634300  \n",
       "...                ...        ...        ...        ...        ...  \n",
       "3321284            4.0  41.853084 -87.631931  41.857813 -87.624550  \n",
       "3321285            7.0  41.857813 -87.624550  41.845687 -87.622481  \n",
       "3321286           31.0  41.880958 -87.616743  41.926277 -87.630834  \n",
       "3321287           24.0  41.857813 -87.624550  41.857813 -87.624550  \n",
       "3321288            9.0  41.963004 -87.684781  41.956004 -87.680161  \n",
       "\n",
       "[3274898 rows x 17 columns]"
      ]
     },
     "execution_count": 72,
     "metadata": {},
     "output_type": "execute_result"
    }
   ],
   "source": [
    "filter_ = data_filters['trip_duration'] > 0 \n",
    "data_filters = data_filters[filter_]\n",
    "data_filters"
   ]
  },
  {
   "cell_type": "markdown",
   "id": "f20375c1",
   "metadata": {
    "heading_collapsed": true
   },
   "source": [
    "# 4.0. Análise Exploratória"
   ]
  },
  {
   "cell_type": "code",
   "execution_count": 19,
   "id": "17558abf",
   "metadata": {
    "ExecuteTime": {
     "end_time": "2022-11-03T19:32:16.950857Z",
     "start_time": "2022-11-03T19:32:15.848291Z"
    },
    "hidden": true
   },
   "outputs": [
    {
     "data": {
      "image/png": "[encoded data removed]",
      "text/plain": [
       "<Figure size 640x480 with 1 Axes>"
      ]
     },
     "metadata": {},
     "output_type": "display_data"
    }
   ],
   "source": [
    "porc_members=(round(data_filters['user_type'].value_counts(normalize=True)*100,2))\n",
    "plt.pie(porc_members,labels=porc_members.index[0:2],startangle=90,autopct='%1.1f%%',labeldistance=0.3,pctdistance=0.6,radius=1)\n",
    "plt.legend(bbox_to_anchor=(1,1))\n",
    "plt.show()"
   ]
  },
  {
   "cell_type": "code",
   "execution_count": 20,
   "id": "775d6272",
   "metadata": {
    "ExecuteTime": {
     "end_time": "2022-11-03T19:32:18.091439Z",
     "start_time": "2022-11-03T19:32:16.955146Z"
    },
    "hidden": true
   },
   "outputs": [
    {
     "data": {
      "text/html": [
       "<div>\n",
       "<style scoped>\n",
       "    .dataframe tbody tr th:only-of-type {\n",
       "        vertical-align: middle;\n",
       "    }\n",
       "\n",
       "    .dataframe tbody tr th {\n",
       "        vertical-align: top;\n",
       "    }\n",
       "\n",
       "    .dataframe thead th {\n",
       "        text-align: right;\n",
       "    }\n",
       "</style>\n",
       "<table border=\"1\" class=\"dataframe\">\n",
       "  <thead>\n",
       "    <tr style=\"text-align: right;\">\n",
       "      <th></th>\n",
       "      <th>start_station_name</th>\n",
       "      <th>user_type</th>\n",
       "      <th>withdrawal quantity</th>\n",
       "    </tr>\n",
       "  </thead>\n",
       "  <tbody>\n",
       "    <tr>\n",
       "      <th>691</th>\n",
       "      <td>Unknown</td>\n",
       "      <td>member</td>\n",
       "      <td>46733</td>\n",
       "    </tr>\n",
       "    <tr>\n",
       "      <th>0</th>\n",
       "      <td>Unknown</td>\n",
       "      <td>casual</td>\n",
       "      <td>33154</td>\n",
       "    </tr>\n",
       "    <tr>\n",
       "      <th>1</th>\n",
       "      <td>Streeter Dr &amp; Grand Ave</td>\n",
       "      <td>casual</td>\n",
       "      <td>25621</td>\n",
       "    </tr>\n",
       "    <tr>\n",
       "      <th>2</th>\n",
       "      <td>Lake Shore Dr &amp; Monroe St</td>\n",
       "      <td>casual</td>\n",
       "      <td>19502</td>\n",
       "    </tr>\n",
       "    <tr>\n",
       "      <th>692</th>\n",
       "      <td>Clark St &amp; Elm St</td>\n",
       "      <td>member</td>\n",
       "      <td>18539</td>\n",
       "    </tr>\n",
       "    <tr>\n",
       "      <th>3</th>\n",
       "      <td>Millennium Park</td>\n",
       "      <td>casual</td>\n",
       "      <td>18144</td>\n",
       "    </tr>\n",
       "    <tr>\n",
       "      <th>693</th>\n",
       "      <td>Kingsbury St &amp; Kinzie St</td>\n",
       "      <td>member</td>\n",
       "      <td>15307</td>\n",
       "    </tr>\n",
       "    <tr>\n",
       "      <th>694</th>\n",
       "      <td>Broadway &amp; Barry Ave</td>\n",
       "      <td>member</td>\n",
       "      <td>14442</td>\n",
       "    </tr>\n",
       "    <tr>\n",
       "      <th>4</th>\n",
       "      <td>Theater on the Lake</td>\n",
       "      <td>casual</td>\n",
       "      <td>14411</td>\n",
       "    </tr>\n",
       "    <tr>\n",
       "      <th>695</th>\n",
       "      <td>St. Clair St &amp; Erie St</td>\n",
       "      <td>member</td>\n",
       "      <td>14299</td>\n",
       "    </tr>\n",
       "  </tbody>\n",
       "</table>\n",
       "</div>"
      ],
      "text/plain": [
       "            start_station_name user_type  withdrawal quantity\n",
       "691                    Unknown    member                46733\n",
       "0                      Unknown    casual                33154\n",
       "1      Streeter Dr & Grand Ave    casual                25621\n",
       "2    Lake Shore Dr & Monroe St    casual                19502\n",
       "692          Clark St & Elm St    member                18539\n",
       "3              Millennium Park    casual                18144\n",
       "693   Kingsbury St & Kinzie St    member                15307\n",
       "694       Broadway & Barry Ave    member                14442\n",
       "4          Theater on the Lake    casual                14411\n",
       "695     St. Clair St & Erie St    member                14299"
      ]
     },
     "execution_count": 20,
     "metadata": {},
     "output_type": "execute_result"
    }
   ],
   "source": [
    "# Top 10 lugares com mais retiradas de bikes\n",
    "top10 =data_filters[['start_station_name','user_type']].groupby('user_type').value_counts().reset_index(name='withdrawal quantity')\n",
    "top10[['start_station_name','user_type','withdrawal quantity']].sort_values('withdrawal quantity',ascending=False).head(10)"
   ]
  },
  {
   "cell_type": "code",
   "execution_count": 21,
   "id": "e97067fd",
   "metadata": {
    "ExecuteTime": {
     "end_time": "2022-11-03T19:32:18.549788Z",
     "start_time": "2022-11-03T19:32:18.095617Z"
    },
    "hidden": true
   },
   "outputs": [
    {
     "data": {
      "text/html": [
       "<div>\n",
       "<style scoped>\n",
       "    .dataframe tbody tr th:only-of-type {\n",
       "        vertical-align: middle;\n",
       "    }\n",
       "\n",
       "    .dataframe tbody tr th {\n",
       "        vertical-align: top;\n",
       "    }\n",
       "\n",
       "    .dataframe thead th {\n",
       "        text-align: right;\n",
       "    }\n",
       "</style>\n",
       "<table border=\"1\" class=\"dataframe\">\n",
       "  <thead>\n",
       "    <tr style=\"text-align: right;\">\n",
       "      <th></th>\n",
       "      <th>user_type</th>\n",
       "      <th>AVG. Distance</th>\n",
       "    </tr>\n",
       "  </thead>\n",
       "  <tbody>\n",
       "    <tr>\n",
       "      <th>0</th>\n",
       "      <td>casual</td>\n",
       "      <td>2.214094</td>\n",
       "    </tr>\n",
       "    <tr>\n",
       "      <th>1</th>\n",
       "      <td>member</td>\n",
       "      <td>2.252307</td>\n",
       "    </tr>\n",
       "  </tbody>\n",
       "</table>\n",
       "</div>"
      ],
      "text/plain": [
       "  user_type  AVG. Distance\n",
       "0    casual       2.214094\n",
       "1    member       2.252307"
      ]
     },
     "execution_count": 21,
     "metadata": {},
     "output_type": "execute_result"
    }
   ],
   "source": [
    "# Distancia média entre usuarios\n",
    "member_avg_distance = data_filters[['user_type', 'ride_distance_km']].groupby('user_type').mean()\n",
    "member_avg_distance.reset_index(drop=False, inplace=True)\n",
    "member_avg_distance.rename(columns={'user_casual':'Type', 'ride_distance_km':'AVG. Distance'}, inplace=True)\n",
    "member_avg_distance"
   ]
  },
  {
   "cell_type": "code",
   "execution_count": 22,
   "id": "11c4ad3d",
   "metadata": {
    "ExecuteTime": {
     "end_time": "2022-11-03T19:32:19.901953Z",
     "start_time": "2022-11-03T19:32:18.553946Z"
    },
    "hidden": true
   },
   "outputs": [
    {
     "data": {
      "image/png": "[encoded data removed]",
      "text/plain": [
       "<Figure size 600x400 with 2 Axes>"
      ]
     },
     "metadata": {},
     "output_type": "display_data"
    }
   ],
   "source": [
    "# Creating a data frame\n",
    "avg_duration = data_filters[['user_type', 'rideable_type', 'trip_duration']].groupby(['user_type', 'rideable_type']).mean()\n",
    "avg_duration.reset_index(drop=False, inplace=True)\n",
    "\n",
    "# Barplot (facegrid)\n",
    "g = sns.FacetGrid(avg_duration, col='user_type')\n",
    "g.map(sns.barplot, 'rideable_type', 'trip_duration', order=[ 'docked_bike', 'electric_bike'], palette='magma')\n",
    "\n",
    "# Non-data parameters\n",
    "g.fig.suptitle('avg DURATION and bike type')\n",
    "g.fig.set_size_inches(6,4)\n",
    "g.set_titles(col_template=\"{col_name}\")\n",
    "g.set_axis_labels('', 'AVG Duration (minutes)')\n",
    "g.set_xticklabels([ 'Docked', 'Electric'])\n",
    "\n",
    "plt.show()"
   ]
  },
  {
   "cell_type": "code",
   "execution_count": 23,
   "id": "d3c04559",
   "metadata": {
    "ExecuteTime": {
     "end_time": "2022-11-03T19:32:20.276605Z",
     "start_time": "2022-11-03T19:32:19.905181Z"
    },
    "hidden": true
   },
   "outputs": [
    {
     "data": {
      "text/html": [
       "<div>\n",
       "<style scoped>\n",
       "    .dataframe tbody tr th:only-of-type {\n",
       "        vertical-align: middle;\n",
       "    }\n",
       "\n",
       "    .dataframe tbody tr th {\n",
       "        vertical-align: top;\n",
       "    }\n",
       "\n",
       "    .dataframe thead th {\n",
       "        text-align: right;\n",
       "    }\n",
       "</style>\n",
       "<table border=\"1\" class=\"dataframe\">\n",
       "  <thead>\n",
       "    <tr style=\"text-align: right;\">\n",
       "      <th></th>\n",
       "      <th>user_type</th>\n",
       "      <th>trip_duration</th>\n",
       "    </tr>\n",
       "  </thead>\n",
       "  <tbody>\n",
       "    <tr>\n",
       "      <th>0</th>\n",
       "      <td>casual</td>\n",
       "      <td>47.329953</td>\n",
       "    </tr>\n",
       "    <tr>\n",
       "      <th>1</th>\n",
       "      <td>member</td>\n",
       "      <td>15.728715</td>\n",
       "    </tr>\n",
       "  </tbody>\n",
       "</table>\n",
       "</div>"
      ],
      "text/plain": [
       "  user_type  trip_duration\n",
       "0    casual      47.329953\n",
       "1    member      15.728715"
      ]
     },
     "execution_count": 23,
     "metadata": {},
     "output_type": "execute_result"
    }
   ],
   "source": [
    "data_filters[['user_type','trip_duration']].groupby('user_type').mean().reset_index()"
   ]
  },
  {
   "cell_type": "code",
   "execution_count": 24,
   "id": "a17b470c",
   "metadata": {
    "ExecuteTime": {
     "end_time": "2022-11-03T19:32:21.367100Z",
     "start_time": "2022-11-03T19:32:20.279602Z"
    },
    "hidden": true
   },
   "outputs": [
    {
     "data": {
      "image/png": "[encoded data removed]",
      "text/plain": [
       "<Figure size 400x400 with 2 Axes>"
      ]
     },
     "metadata": {},
     "output_type": "display_data"
    }
   ],
   "source": [
    "# Casual/Member avg DISTANCE and bike type\n",
    "avg_distance = data_filters[['user_type', 'rideable_type', 'ride_distance_km']].groupby(['user_type', 'rideable_type']).mean()\n",
    "avg_distance.reset_index(drop=False, inplace=True)\n",
    "\n",
    "# Barplot (facegrid)\n",
    "g = sns.FacetGrid(avg_distance, col='user_type')\n",
    "g.map(sns.barplot, 'rideable_type', 'ride_distance_km', order=[ 'docked_bike', 'electric_bike'], palette='mako')\n",
    "\n",
    "# Non-data parameters\n",
    "g.fig.suptitle('Average distance by a Bike Type')\n",
    "g.fig.set_size_inches(4,4)\n",
    "g.set_titles(col_template=\"{col_name}\")\n",
    "g.set_axis_labels('', 'AVG Distance (Km)')\n",
    "g.set_xticklabels([ 'Docked', 'Electric'])\n",
    "\n",
    "plt.show()"
   ]
  },
  {
   "cell_type": "code",
   "execution_count": 25,
   "id": "7dd3a70d",
   "metadata": {
    "ExecuteTime": {
     "end_time": "2022-11-03T19:32:22.059563Z",
     "start_time": "2022-11-03T19:32:21.371355Z"
    },
    "hidden": true
   },
   "outputs": [
    {
     "data": {
      "text/html": [
       "<div>\n",
       "<style scoped>\n",
       "    .dataframe tbody tr th:only-of-type {\n",
       "        vertical-align: middle;\n",
       "    }\n",
       "\n",
       "    .dataframe tbody tr th {\n",
       "        vertical-align: top;\n",
       "    }\n",
       "\n",
       "    .dataframe thead th {\n",
       "        text-align: right;\n",
       "    }\n",
       "</style>\n",
       "<table border=\"1\" class=\"dataframe\">\n",
       "  <thead>\n",
       "    <tr style=\"text-align: right;\">\n",
       "      <th></th>\n",
       "      <th>user_type</th>\n",
       "      <th>rideable_type</th>\n",
       "      <th>ride_distance_km</th>\n",
       "    </tr>\n",
       "  </thead>\n",
       "  <tbody>\n",
       "    <tr>\n",
       "      <th>0</th>\n",
       "      <td>casual</td>\n",
       "      <td>docked_bike</td>\n",
       "      <td>2.141426</td>\n",
       "    </tr>\n",
       "    <tr>\n",
       "      <th>1</th>\n",
       "      <td>casual</td>\n",
       "      <td>electric_bike</td>\n",
       "      <td>2.635606</td>\n",
       "    </tr>\n",
       "    <tr>\n",
       "      <th>2</th>\n",
       "      <td>member</td>\n",
       "      <td>docked_bike</td>\n",
       "      <td>2.199770</td>\n",
       "    </tr>\n",
       "    <tr>\n",
       "      <th>3</th>\n",
       "      <td>member</td>\n",
       "      <td>electric_bike</td>\n",
       "      <td>2.603408</td>\n",
       "    </tr>\n",
       "  </tbody>\n",
       "</table>\n",
       "</div>"
      ],
      "text/plain": [
       "  user_type  rideable_type  ride_distance_km\n",
       "0    casual    docked_bike          2.141426\n",
       "1    casual  electric_bike          2.635606\n",
       "2    member    docked_bike          2.199770\n",
       "3    member  electric_bike          2.603408"
      ]
     },
     "execution_count": 25,
     "metadata": {},
     "output_type": "execute_result"
    }
   ],
   "source": [
    " data_filters[['user_type', 'rideable_type', 'ride_distance_km']].groupby(['user_type', 'rideable_type']).mean().reset_index()"
   ]
  },
  {
   "cell_type": "markdown",
   "id": "c83106c1",
   "metadata": {
    "heading_collapsed": true,
    "hidden": true
   },
   "source": [
    "## Insights"
   ]
  },
  {
   "cell_type": "markdown",
   "id": "fe944d56",
   "metadata": {
    "hidden": true
   },
   "source": [
    "### H**1.** No verão a frequencia de usuarios aumentam 30% em relação ao inverno"
   ]
  },
  {
   "cell_type": "code",
   "execution_count": 26,
   "id": "aeac6859",
   "metadata": {
    "ExecuteTime": {
     "end_time": "2022-11-03T19:32:24.274380Z",
     "start_time": "2022-11-03T19:32:22.063117Z"
    },
    "hidden": true
   },
   "outputs": [
    {
     "name": "stderr",
     "output_type": "stream",
     "text": [
      "C:\\Users\\wesle\\anaconda3\\envs\\cyclistic\\lib\\site-packages\\seaborn\\_decorators.py:36: FutureWarning: Pass the following variable as a keyword arg: x. From version 0.12, the only valid positional argument will be `data`, and passing other arguments without an explicit keyword will result in an error or misinterpretation.\n",
      "  warnings.warn(\n"
     ]
    },
    {
     "data": {
      "image/png": "[encoded data removed]",
      "text/plain": [
       "<Figure size 640x480 with 1 Axes>"
      ]
     },
     "metadata": {},
     "output_type": "display_data"
    }
   ],
   "source": [
    "aux = data_filters.loc[(data_filters['season']== 'summer') | (data_filters['season']== 'winter')]\n",
    "sns.countplot(aux['season']);"
   ]
  },
  {
   "cell_type": "code",
   "execution_count": 27,
   "id": "a23ef811",
   "metadata": {
    "ExecuteTime": {
     "end_time": "2022-11-03T19:32:24.431349Z",
     "start_time": "2022-11-03T19:32:24.278512Z"
    },
    "hidden": true
   },
   "outputs": [
    {
     "data": {
      "text/plain": [
       "81.21"
      ]
     },
     "execution_count": 27,
     "metadata": {},
     "output_type": "execute_result"
    }
   ],
   "source": [
    "aux1=aux['season'].value_counts().reset_index()\n",
    "round((aux1['season'][0] - aux1['season'][1]) / aux1['season'][0] * 100,2)\n"
   ]
  },
  {
   "cell_type": "markdown",
   "id": "0a209702",
   "metadata": {
    "hidden": true
   },
   "source": [
    "Verdadeiro. A porcentagem no verão é de 80% maior em relação ao inverno. "
   ]
  },
  {
   "cell_type": "markdown",
   "id": "95a83dce",
   "metadata": {
    "hidden": true
   },
   "source": [
    "### H2. Em agosto o numero de usuarios caiu 20% em relação a julho."
   ]
  },
  {
   "cell_type": "code",
   "execution_count": 28,
   "id": "2dab7dd5",
   "metadata": {
    "ExecuteTime": {
     "end_time": "2022-11-03T19:32:25.144237Z",
     "start_time": "2022-11-03T19:32:24.442598Z"
    },
    "hidden": true
   },
   "outputs": [
    {
     "name": "stderr",
     "output_type": "stream",
     "text": [
      "C:\\Users\\wesle\\anaconda3\\envs\\cyclistic\\lib\\site-packages\\seaborn\\_decorators.py:36: FutureWarning: Pass the following variable as a keyword arg: x. From version 0.12, the only valid positional argument will be `data`, and passing other arguments without an explicit keyword will result in an error or misinterpretation.\n",
      "  warnings.warn(\n"
     ]
    },
    {
     "data": {
      "image/png": "[encoded data removed]",
      "text/plain": [
       "<Figure size 640x480 with 1 Axes>"
      ]
     },
     "metadata": {},
     "output_type": "display_data"
    }
   ],
   "source": [
    "sns.countplot(data_filters['month']);"
   ]
  },
  {
   "cell_type": "code",
   "execution_count": 29,
   "id": "35e5a948",
   "metadata": {
    "ExecuteTime": {
     "end_time": "2022-11-03T19:32:25.280719Z",
     "start_time": "2022-11-03T19:32:25.146445Z"
    },
    "hidden": true
   },
   "outputs": [
    {
     "data": {
      "text/plain": [
       "10.91"
      ]
     },
     "execution_count": 29,
     "metadata": {},
     "output_type": "execute_result"
    }
   ],
   "source": [
    "aux=data_filters['month'].value_counts().reset_index()\n",
    "round((aux['month'][0] - aux['month'][1]) / aux['month'][0] * 100,2)\n"
   ]
  },
  {
   "cell_type": "markdown",
   "id": "865485e7",
   "metadata": {
    "hidden": true
   },
   "source": [
    "Falso. O numero de usuarios aumentou em quase 11%"
   ]
  },
  {
   "cell_type": "markdown",
   "id": "6d4f6ab9",
   "metadata": {
    "hidden": true
   },
   "source": [
    "### H**3.** No feriado de São Patricio o volume de usuarios aumentaram.\n"
   ]
  },
  {
   "cell_type": "code",
   "execution_count": 30,
   "id": "cf17d8cf",
   "metadata": {
    "ExecuteTime": {
     "end_time": "2022-11-03T19:32:25.773598Z",
     "start_time": "2022-11-03T19:32:25.286137Z"
    },
    "hidden": true
   },
   "outputs": [
    {
     "name": "stderr",
     "output_type": "stream",
     "text": [
      "C:\\Users\\wesle\\anaconda3\\envs\\cyclistic\\lib\\site-packages\\seaborn\\_decorators.py:36: FutureWarning: Pass the following variable as a keyword arg: x. From version 0.12, the only valid positional argument will be `data`, and passing other arguments without an explicit keyword will result in an error or misinterpretation.\n",
      "  warnings.warn(\n"
     ]
    },
    {
     "data": {
      "image/png": "[encoded data removed]",
      "text/plain": [
       "<Figure size 640x480 with 1 Axes>"
      ]
     },
     "metadata": {},
     "output_type": "display_data"
    }
   ],
   "source": [
    "aux= data_filters[data_filters['month'] == 3]\n",
    "sns.countplot(aux['day']);"
   ]
  },
  {
   "cell_type": "code",
   "execution_count": 31,
   "id": "612a76ee",
   "metadata": {
    "ExecuteTime": {
     "end_time": "2022-11-03T19:32:25.789519Z",
     "start_time": "2022-11-03T19:32:25.776826Z"
    },
    "hidden": true
   },
   "outputs": [
    {
     "data": {
      "text/plain": [
       "62.1"
      ]
     },
     "execution_count": 31,
     "metadata": {},
     "output_type": "execute_result"
    }
   ],
   "source": [
    "aux1=aux['day'].value_counts().reset_index()\n",
    "round((aux1['day'][0] - aux1['day'][13]) / aux1['day'][0] * 100,2)\n"
   ]
  },
  {
   "cell_type": "markdown",
   "id": "849ec26f",
   "metadata": {
    "hidden": true
   },
   "source": [
    "Falso. O Numero de usuários caiu mais de 60% comparando com o melhor dia sem feriado.\n",
    "O dia de São Patricio é comemorado dia 17 de março."
   ]
  },
  {
   "cell_type": "markdown",
   "id": "69cc266e",
   "metadata": {
    "hidden": true
   },
   "source": [
    "### H**4.** No inverno os depositos de bikes no centro são mais frequentes por usuarios anuais."
   ]
  },
  {
   "cell_type": "code",
   "execution_count": 32,
   "id": "18e7fd27",
   "metadata": {
    "ExecuteTime": {
     "end_time": "2022-11-03T19:32:26.235740Z",
     "start_time": "2022-11-03T19:32:25.792359Z"
    },
    "hidden": true
   },
   "outputs": [
    {
     "data": {
      "text/html": [
       "<div>\n",
       "<style scoped>\n",
       "    .dataframe tbody tr th:only-of-type {\n",
       "        vertical-align: middle;\n",
       "    }\n",
       "\n",
       "    .dataframe tbody tr th {\n",
       "        vertical-align: top;\n",
       "    }\n",
       "\n",
       "    .dataframe thead th {\n",
       "        text-align: right;\n",
       "    }\n",
       "</style>\n",
       "<table border=\"1\" class=\"dataframe\">\n",
       "  <thead>\n",
       "    <tr style=\"text-align: right;\">\n",
       "      <th></th>\n",
       "      <th>end_station_name</th>\n",
       "      <th>user_type</th>\n",
       "      <th>sum_type_user</th>\n",
       "    </tr>\n",
       "  </thead>\n",
       "  <tbody>\n",
       "    <tr>\n",
       "      <th>0</th>\n",
       "      <td>Canal St &amp; Adams St</td>\n",
       "      <td>member</td>\n",
       "      <td>6229</td>\n",
       "    </tr>\n",
       "    <tr>\n",
       "      <th>1</th>\n",
       "      <td>Clinton St &amp; Washington Blvd</td>\n",
       "      <td>member</td>\n",
       "      <td>5296</td>\n",
       "    </tr>\n",
       "    <tr>\n",
       "      <th>2</th>\n",
       "      <td>Clinton St &amp; Madison St</td>\n",
       "      <td>member</td>\n",
       "      <td>5125</td>\n",
       "    </tr>\n",
       "    <tr>\n",
       "      <th>3</th>\n",
       "      <td>Kingsbury St &amp; Kinzie St</td>\n",
       "      <td>member</td>\n",
       "      <td>3405</td>\n",
       "    </tr>\n",
       "    <tr>\n",
       "      <th>4</th>\n",
       "      <td>Michigan Ave &amp; Washington St</td>\n",
       "      <td>member</td>\n",
       "      <td>2838</td>\n",
       "    </tr>\n",
       "    <tr>\n",
       "      <th>...</th>\n",
       "      <td>...</td>\n",
       "      <td>...</td>\n",
       "      <td>...</td>\n",
       "    </tr>\n",
       "    <tr>\n",
       "      <th>1148</th>\n",
       "      <td>Laramie Ave &amp; Madison St</td>\n",
       "      <td>member</td>\n",
       "      <td>1</td>\n",
       "    </tr>\n",
       "    <tr>\n",
       "      <th>1149</th>\n",
       "      <td>Kostner Ave &amp; Lake St</td>\n",
       "      <td>member</td>\n",
       "      <td>1</td>\n",
       "    </tr>\n",
       "    <tr>\n",
       "      <th>1150</th>\n",
       "      <td>Knox Ave &amp; Montrose Ave</td>\n",
       "      <td>casual</td>\n",
       "      <td>1</td>\n",
       "    </tr>\n",
       "    <tr>\n",
       "      <th>1151</th>\n",
       "      <td>Kilbourn Ave &amp; Irving Park Rd</td>\n",
       "      <td>casual</td>\n",
       "      <td>1</td>\n",
       "    </tr>\n",
       "    <tr>\n",
       "      <th>1152</th>\n",
       "      <td>Yates Blvd &amp; 75th St</td>\n",
       "      <td>member</td>\n",
       "      <td>1</td>\n",
       "    </tr>\n",
       "  </tbody>\n",
       "</table>\n",
       "<p>1153 rows × 3 columns</p>\n",
       "</div>"
      ],
      "text/plain": [
       "                   end_station_name user_type  sum_type_user\n",
       "0               Canal St & Adams St    member           6229\n",
       "1      Clinton St & Washington Blvd    member           5296\n",
       "2           Clinton St & Madison St    member           5125\n",
       "3          Kingsbury St & Kinzie St    member           3405\n",
       "4      Michigan Ave & Washington St    member           2838\n",
       "...                             ...       ...            ...\n",
       "1148       Laramie Ave & Madison St    member              1\n",
       "1149          Kostner Ave & Lake St    member              1\n",
       "1150        Knox Ave & Montrose Ave    casual              1\n",
       "1151  Kilbourn Ave & Irving Park Rd    casual              1\n",
       "1152           Yates Blvd & 75th St    member              1\n",
       "\n",
       "[1153 rows x 3 columns]"
      ]
     },
     "execution_count": 32,
     "metadata": {},
     "output_type": "execute_result"
    }
   ],
   "source": [
    "aux = data_filters[data_filters['season']== 'winter']\n",
    "aux1=aux[['end_station_name','user_type']].value_counts().reset_index(name='sum_type_user')\n",
    "aux1"
   ]
  },
  {
   "cell_type": "markdown",
   "id": "a5769c15",
   "metadata": {
    "ExecuteTime": {
     "end_time": "2022-10-29T18:35:36.690279Z",
     "start_time": "2022-10-29T18:35:36.670535Z"
    },
    "hidden": true
   },
   "source": [
    "Verdade. Maior parte dos dados está desconhecido. Mas a maioria prefere depositar as bike na Canal St & Adams St, localização de vários restaurantes e do principal metrô (chicago Union Station)."
   ]
  },
  {
   "cell_type": "markdown",
   "id": "8c2c1d97",
   "metadata": {
    "hidden": true
   },
   "source": [
    "### H**5.** Nos finais de semana a porcentagem de usuários casuais aumentaram em 20%.\n"
   ]
  },
  {
   "cell_type": "code",
   "execution_count": 33,
   "id": "097d6e75",
   "metadata": {
    "ExecuteTime": {
     "end_time": "2022-11-03T19:32:27.094281Z",
     "start_time": "2022-11-03T19:32:26.241259Z"
    },
    "hidden": true
   },
   "outputs": [
    {
     "data": {
      "text/html": [
       "<div>\n",
       "<style scoped>\n",
       "    .dataframe tbody tr th:only-of-type {\n",
       "        vertical-align: middle;\n",
       "    }\n",
       "\n",
       "    .dataframe tbody tr th {\n",
       "        vertical-align: top;\n",
       "    }\n",
       "\n",
       "    .dataframe thead th {\n",
       "        text-align: right;\n",
       "    }\n",
       "</style>\n",
       "<table border=\"1\" class=\"dataframe\">\n",
       "  <thead>\n",
       "    <tr style=\"text-align: right;\">\n",
       "      <th></th>\n",
       "      <th>type_week_categoric</th>\n",
       "      <th>user_type</th>\n",
       "      <th>sum</th>\n",
       "    </tr>\n",
       "  </thead>\n",
       "  <tbody>\n",
       "    <tr>\n",
       "      <th>0</th>\n",
       "      <td>weekday</td>\n",
       "      <td>member</td>\n",
       "      <td>1450874</td>\n",
       "    </tr>\n",
       "    <tr>\n",
       "      <th>1</th>\n",
       "      <td>weekday</td>\n",
       "      <td>casual</td>\n",
       "      <td>749160</td>\n",
       "    </tr>\n",
       "    <tr>\n",
       "      <th>2</th>\n",
       "      <td>weekend</td>\n",
       "      <td>casual</td>\n",
       "      <td>544153</td>\n",
       "    </tr>\n",
       "    <tr>\n",
       "      <th>3</th>\n",
       "      <td>weekend</td>\n",
       "      <td>member</td>\n",
       "      <td>530711</td>\n",
       "    </tr>\n",
       "  </tbody>\n",
       "</table>\n",
       "</div>"
      ],
      "text/plain": [
       "  type_week_categoric user_type      sum\n",
       "0             weekday    member  1450874\n",
       "1             weekday    casual   749160\n",
       "2             weekend    casual   544153\n",
       "3             weekend    member   530711"
      ]
     },
     "execution_count": 33,
     "metadata": {},
     "output_type": "execute_result"
    }
   ],
   "source": [
    "aux=data_filters[['type_week_categoric','user_type']].value_counts().reset_index(name='sum')\n",
    "\n",
    "aux"
   ]
  },
  {
   "cell_type": "code",
   "execution_count": 34,
   "id": "e1f21e0d",
   "metadata": {
    "ExecuteTime": {
     "end_time": "2022-11-03T19:32:27.126224Z",
     "start_time": "2022-11-03T19:32:27.099387Z"
    },
    "hidden": true
   },
   "outputs": [
    {
     "data": {
      "text/plain": [
       "27.36"
      ]
     },
     "execution_count": 34,
     "metadata": {},
     "output_type": "execute_result"
    }
   ],
   "source": [
    "round((aux['sum'][1] - aux['sum'][2]) / aux['sum'][1] * 100,2)\n"
   ]
  },
  {
   "cell_type": "markdown",
   "id": "580d6047",
   "metadata": {
    "hidden": true
   },
   "source": [
    "Verdade. A porcentangem de usuários aumentou 27% nos finais de semana."
   ]
  },
  {
   "cell_type": "markdown",
   "id": "b148fba3",
   "metadata": {
    "hidden": true
   },
   "source": [
    "###  H**6.** A cada mês há um aumento de 10% de usuários casuais.\n"
   ]
  },
  {
   "cell_type": "code",
   "execution_count": 35,
   "id": "153622bf",
   "metadata": {
    "ExecuteTime": {
     "end_time": "2022-11-03T19:32:27.679454Z",
     "start_time": "2022-11-03T19:32:27.131289Z"
    },
    "hidden": true
   },
   "outputs": [
    {
     "data": {
      "text/html": [
       "<div>\n",
       "<style scoped>\n",
       "    .dataframe tbody tr th:only-of-type {\n",
       "        vertical-align: middle;\n",
       "    }\n",
       "\n",
       "    .dataframe tbody tr th {\n",
       "        vertical-align: top;\n",
       "    }\n",
       "\n",
       "    .dataframe thead th {\n",
       "        text-align: right;\n",
       "    }\n",
       "</style>\n",
       "<table border=\"1\" class=\"dataframe\">\n",
       "  <thead>\n",
       "    <tr style=\"text-align: right;\">\n",
       "      <th></th>\n",
       "      <th>month</th>\n",
       "      <th>user_type</th>\n",
       "      <th>user_total</th>\n",
       "      <th>difference</th>\n",
       "    </tr>\n",
       "  </thead>\n",
       "  <tbody>\n",
       "    <tr>\n",
       "      <th>19</th>\n",
       "      <td>1</td>\n",
       "      <td>casual</td>\n",
       "      <td>7752</td>\n",
       "      <td>36.94</td>\n",
       "    </tr>\n",
       "    <tr>\n",
       "      <th>18</th>\n",
       "      <td>2</td>\n",
       "      <td>casual</td>\n",
       "      <td>12294</td>\n",
       "      <td>49.97</td>\n",
       "    </tr>\n",
       "    <tr>\n",
       "      <th>17</th>\n",
       "      <td>3</td>\n",
       "      <td>casual</td>\n",
       "      <td>24574</td>\n",
       "      <td>71.54</td>\n",
       "    </tr>\n",
       "    <tr>\n",
       "      <th>16</th>\n",
       "      <td>5</td>\n",
       "      <td>casual</td>\n",
       "      <td>86333</td>\n",
       "      <td>0.74</td>\n",
       "    </tr>\n",
       "    <tr>\n",
       "      <th>9</th>\n",
       "      <td>6</td>\n",
       "      <td>casual</td>\n",
       "      <td>153573</td>\n",
       "      <td>9.10</td>\n",
       "    </tr>\n",
       "    <tr>\n",
       "      <th>4</th>\n",
       "      <td>7</td>\n",
       "      <td>casual</td>\n",
       "      <td>267087</td>\n",
       "      <td>3.76</td>\n",
       "    </tr>\n",
       "    <tr>\n",
       "      <th>2</th>\n",
       "      <td>8</td>\n",
       "      <td>casual</td>\n",
       "      <td>284940</td>\n",
       "      <td>3.90</td>\n",
       "    </tr>\n",
       "    <tr>\n",
       "      <th>6</th>\n",
       "      <td>9</td>\n",
       "      <td>casual</td>\n",
       "      <td>227417</td>\n",
       "      <td>4.76</td>\n",
       "    </tr>\n",
       "    <tr>\n",
       "      <th>10</th>\n",
       "      <td>10</td>\n",
       "      <td>casual</td>\n",
       "      <td>142365</td>\n",
       "      <td>7.30</td>\n",
       "    </tr>\n",
       "    <tr>\n",
       "      <th>15</th>\n",
       "      <td>11</td>\n",
       "      <td>casual</td>\n",
       "      <td>86978</td>\n",
       "      <td>22.30</td>\n",
       "    </tr>\n",
       "  </tbody>\n",
       "</table>\n",
       "</div>"
      ],
      "text/plain": [
       "    month user_type  user_total  difference\n",
       "19      1    casual        7752       36.94\n",
       "18      2    casual       12294       49.97\n",
       "17      3    casual       24574       71.54\n",
       "16      5    casual       86333        0.74\n",
       "9       6    casual      153573        9.10\n",
       "4       7    casual      267087        3.76\n",
       "2       8    casual      284940        3.90\n",
       "6       9    casual      227417        4.76\n",
       "10     10    casual      142365        7.30\n",
       "15     11    casual       86978       22.30"
      ]
     },
     "execution_count": 35,
     "metadata": {},
     "output_type": "execute_result"
    }
   ],
   "source": [
    "# contagem de usuarios por mês\n",
    "aux=data_filters[['month','user_type']].value_counts(['month','user_type']).reset_index(name='user_total')\n",
    "#ordenando\n",
    "aux=aux.sort_values('month')\n",
    "\n",
    "# porcentagem de usuario em relação a cada mês anterior (jan - fev / jan)\n",
    "for i in range(0,len(aux)-1):\n",
    "    aux.loc[i+1,'difference'] = round((aux.loc[i,'user_total'] - aux.loc[i+1,'user_total']) /aux.loc[i,'user_total'] *100,2)\n",
    "    \n",
    "aux1=aux[aux['user_type']=='casual']\n",
    "aux1"
   ]
  },
  {
   "cell_type": "markdown",
   "id": "492644ef",
   "metadata": {
    "hidden": true
   },
   "source": [
    "Falso. A porcentagem de clientes por mês é muito váriavel. Em destaque o mês de março que teve um pico de usuários casuais. O motivo atípico é pela carreta do dia internacional da mulher."
   ]
  },
  {
   "cell_type": "markdown",
   "id": "eb1f356c",
   "metadata": {
    "hidden": true
   },
   "source": [
    "### H**7.** Qual a diferenca de horarios entre usuarios, considerando dia, tarde e noite.\n"
   ]
  },
  {
   "cell_type": "code",
   "execution_count": 36,
   "id": "5a68fbd1",
   "metadata": {
    "ExecuteTime": {
     "end_time": "2022-11-03T19:32:29.014277Z",
     "start_time": "2022-11-03T19:32:27.683694Z"
    },
    "hidden": true
   },
   "outputs": [
    {
     "data": {
      "text/plain": [
       "<AxesSubplot:xlabel='trip_start_hour', ylabel='total_per_hour'>"
      ]
     },
     "execution_count": 36,
     "metadata": {},
     "output_type": "execute_result"
    },
    {
     "data": {
      "image/png": "[encoded data removed]",
      "text/plain": [
       "<Figure size 640x480 with 1 Axes>"
      ]
     },
     "metadata": {},
     "output_type": "display_data"
    }
   ],
   "source": [
    "aux=data_filters[['trip_start_hour','user_type']].value_counts(['trip_start_hour','user_type'],ascending=False).reset_index(name='total_per_hour')\n",
    "\n",
    "aux.head(10)\n",
    "plt.style.use('seaborn-darkgrid')\n",
    "sns.lineplot(data=aux, x=\"trip_start_hour\", y=\"total_per_hour\", hue=\"user_type\")"
   ]
  },
  {
   "cell_type": "code",
   "execution_count": 37,
   "id": "1b6387b0",
   "metadata": {
    "ExecuteTime": {
     "end_time": "2022-11-03T19:32:29.045504Z",
     "start_time": "2022-11-03T19:32:29.018541Z"
    },
    "cell_style": "center",
    "hidden": true
   },
   "outputs": [
    {
     "data": {
      "text/html": [
       "<div>\n",
       "<style scoped>\n",
       "    .dataframe tbody tr th:only-of-type {\n",
       "        vertical-align: middle;\n",
       "    }\n",
       "\n",
       "    .dataframe tbody tr th {\n",
       "        vertical-align: top;\n",
       "    }\n",
       "\n",
       "    .dataframe thead th {\n",
       "        text-align: right;\n",
       "    }\n",
       "</style>\n",
       "<table border=\"1\" class=\"dataframe\">\n",
       "  <thead>\n",
       "    <tr style=\"text-align: right;\">\n",
       "      <th></th>\n",
       "      <th>trip_start_hour</th>\n",
       "      <th>user_type</th>\n",
       "      <th>total_per_hour</th>\n",
       "    </tr>\n",
       "  </thead>\n",
       "  <tbody>\n",
       "    <tr>\n",
       "      <th>45</th>\n",
       "      <td>03</td>\n",
       "      <td>member</td>\n",
       "      <td>3218</td>\n",
       "    </tr>\n",
       "    <tr>\n",
       "      <th>44</th>\n",
       "      <td>04</td>\n",
       "      <td>member</td>\n",
       "      <td>3950</td>\n",
       "    </tr>\n",
       "    <tr>\n",
       "      <th>42</th>\n",
       "      <td>02</td>\n",
       "      <td>member</td>\n",
       "      <td>5740</td>\n",
       "    </tr>\n",
       "    <tr>\n",
       "      <th>39</th>\n",
       "      <td>01</td>\n",
       "      <td>member</td>\n",
       "      <td>10285</td>\n",
       "    </tr>\n",
       "    <tr>\n",
       "      <th>37</th>\n",
       "      <td>05</td>\n",
       "      <td>member</td>\n",
       "      <td>15157</td>\n",
       "    </tr>\n",
       "    <tr>\n",
       "      <th>36</th>\n",
       "      <td>00</td>\n",
       "      <td>member</td>\n",
       "      <td>17104</td>\n",
       "    </tr>\n",
       "    <tr>\n",
       "      <th>33</th>\n",
       "      <td>23</td>\n",
       "      <td>member</td>\n",
       "      <td>29567</td>\n",
       "    </tr>\n",
       "    <tr>\n",
       "      <th>29</th>\n",
       "      <td>22</td>\n",
       "      <td>member</td>\n",
       "      <td>40651</td>\n",
       "    </tr>\n",
       "    <tr>\n",
       "      <th>26</th>\n",
       "      <td>06</td>\n",
       "      <td>member</td>\n",
       "      <td>46409</td>\n",
       "    </tr>\n",
       "    <tr>\n",
       "      <th>25</th>\n",
       "      <td>21</td>\n",
       "      <td>member</td>\n",
       "      <td>52826</td>\n",
       "    </tr>\n",
       "    <tr>\n",
       "      <th>21</th>\n",
       "      <td>09</td>\n",
       "      <td>member</td>\n",
       "      <td>78206</td>\n",
       "    </tr>\n",
       "    <tr>\n",
       "      <th>20</th>\n",
       "      <td>20</td>\n",
       "      <td>member</td>\n",
       "      <td>80548</td>\n",
       "    </tr>\n",
       "    <tr>\n",
       "      <th>19</th>\n",
       "      <td>10</td>\n",
       "      <td>member</td>\n",
       "      <td>82380</td>\n",
       "    </tr>\n",
       "    <tr>\n",
       "      <th>17</th>\n",
       "      <td>07</td>\n",
       "      <td>member</td>\n",
       "      <td>86104</td>\n",
       "    </tr>\n",
       "    <tr>\n",
       "      <th>12</th>\n",
       "      <td>08</td>\n",
       "      <td>member</td>\n",
       "      <td>103782</td>\n",
       "    </tr>\n",
       "  </tbody>\n",
       "</table>\n",
       "</div>"
      ],
      "text/plain": [
       "   trip_start_hour user_type  total_per_hour\n",
       "45              03    member            3218\n",
       "44              04    member            3950\n",
       "42              02    member            5740\n",
       "39              01    member           10285\n",
       "37              05    member           15157\n",
       "36              00    member           17104\n",
       "33              23    member           29567\n",
       "29              22    member           40651\n",
       "26              06    member           46409\n",
       "25              21    member           52826\n",
       "21              09    member           78206\n",
       "20              20    member           80548\n",
       "19              10    member           82380\n",
       "17              07    member           86104\n",
       "12              08    member          103782"
      ]
     },
     "execution_count": 37,
     "metadata": {},
     "output_type": "execute_result"
    }
   ],
   "source": [
    "aux[aux['user_type']== 'member'].sort_values('total_per_hour',ascending=True).head(15)"
   ]
  },
  {
   "cell_type": "code",
   "execution_count": 38,
   "id": "2a60735a",
   "metadata": {
    "ExecuteTime": {
     "end_time": "2022-11-03T19:32:29.089177Z",
     "start_time": "2022-11-03T19:32:29.051984Z"
    },
    "hidden": true
   },
   "outputs": [
    {
     "data": {
      "text/html": [
       "<div>\n",
       "<style scoped>\n",
       "    .dataframe tbody tr th:only-of-type {\n",
       "        vertical-align: middle;\n",
       "    }\n",
       "\n",
       "    .dataframe tbody tr th {\n",
       "        vertical-align: top;\n",
       "    }\n",
       "\n",
       "    .dataframe thead th {\n",
       "        text-align: right;\n",
       "    }\n",
       "</style>\n",
       "<table border=\"1\" class=\"dataframe\">\n",
       "  <thead>\n",
       "    <tr style=\"text-align: right;\">\n",
       "      <th></th>\n",
       "      <th>trip_start_hour</th>\n",
       "      <th>user_type</th>\n",
       "      <th>total_per_hour</th>\n",
       "    </tr>\n",
       "  </thead>\n",
       "  <tbody>\n",
       "    <tr>\n",
       "      <th>4</th>\n",
       "      <td>17</td>\n",
       "      <td>casual</td>\n",
       "      <td>132205</td>\n",
       "    </tr>\n",
       "    <tr>\n",
       "      <th>9</th>\n",
       "      <td>18</td>\n",
       "      <td>casual</td>\n",
       "      <td>118377</td>\n",
       "    </tr>\n",
       "    <tr>\n",
       "      <th>10</th>\n",
       "      <td>16</td>\n",
       "      <td>casual</td>\n",
       "      <td>112566</td>\n",
       "    </tr>\n",
       "    <tr>\n",
       "      <th>13</th>\n",
       "      <td>15</td>\n",
       "      <td>casual</td>\n",
       "      <td>99571</td>\n",
       "    </tr>\n",
       "    <tr>\n",
       "      <th>14</th>\n",
       "      <td>14</td>\n",
       "      <td>casual</td>\n",
       "      <td>91980</td>\n",
       "    </tr>\n",
       "    <tr>\n",
       "      <th>15</th>\n",
       "      <td>13</td>\n",
       "      <td>casual</td>\n",
       "      <td>89176</td>\n",
       "    </tr>\n",
       "    <tr>\n",
       "      <th>16</th>\n",
       "      <td>19</td>\n",
       "      <td>casual</td>\n",
       "      <td>88104</td>\n",
       "    </tr>\n",
       "    <tr>\n",
       "      <th>18</th>\n",
       "      <td>12</td>\n",
       "      <td>casual</td>\n",
       "      <td>85754</td>\n",
       "    </tr>\n",
       "    <tr>\n",
       "      <th>22</th>\n",
       "      <td>11</td>\n",
       "      <td>casual</td>\n",
       "      <td>71820</td>\n",
       "    </tr>\n",
       "    <tr>\n",
       "      <th>23</th>\n",
       "      <td>20</td>\n",
       "      <td>casual</td>\n",
       "      <td>58880</td>\n",
       "    </tr>\n",
       "    <tr>\n",
       "      <th>24</th>\n",
       "      <td>10</td>\n",
       "      <td>casual</td>\n",
       "      <td>55286</td>\n",
       "    </tr>\n",
       "    <tr>\n",
       "      <th>27</th>\n",
       "      <td>08</td>\n",
       "      <td>casual</td>\n",
       "      <td>46249</td>\n",
       "    </tr>\n",
       "    <tr>\n",
       "      <th>28</th>\n",
       "      <td>09</td>\n",
       "      <td>casual</td>\n",
       "      <td>45736</td>\n",
       "    </tr>\n",
       "    <tr>\n",
       "      <th>30</th>\n",
       "      <td>21</td>\n",
       "      <td>casual</td>\n",
       "      <td>39139</td>\n",
       "    </tr>\n",
       "  </tbody>\n",
       "</table>\n",
       "</div>"
      ],
      "text/plain": [
       "   trip_start_hour user_type  total_per_hour\n",
       "4               17    casual          132205\n",
       "9               18    casual          118377\n",
       "10              16    casual          112566\n",
       "13              15    casual           99571\n",
       "14              14    casual           91980\n",
       "15              13    casual           89176\n",
       "16              19    casual           88104\n",
       "18              12    casual           85754\n",
       "22              11    casual           71820\n",
       "23              20    casual           58880\n",
       "24              10    casual           55286\n",
       "27              08    casual           46249\n",
       "28              09    casual           45736\n",
       "30              21    casual           39139"
      ]
     },
     "execution_count": 38,
     "metadata": {},
     "output_type": "execute_result"
    }
   ],
   "source": [
    "aux[aux['user_type']== 'casual'].sort_values('total_per_hour',ascending=False).head(14)"
   ]
  },
  {
   "cell_type": "markdown",
   "id": "d9db0069",
   "metadata": {
    "hidden": true
   },
   "source": [
    "o horário de pico dos membros anuais é as 8h, 17h e 19h.\n",
    "o horário de pico dos casuais é as 10h , 17hr e 19h."
   ]
  },
  {
   "cell_type": "code",
   "execution_count": 39,
   "id": "487aeb38",
   "metadata": {
    "ExecuteTime": {
     "end_time": "2022-11-03T19:32:29.107686Z",
     "start_time": "2022-11-03T19:32:29.092175Z"
    },
    "hidden": true
   },
   "outputs": [
    {
     "data": {
      "text/plain": [
       "31.19"
      ]
     },
     "execution_count": 39,
     "metadata": {},
     "output_type": "execute_result"
    }
   ],
   "source": [
    "madrugada_casual=aux[aux['user_type']== 'casual'].sort_values('total_per_hour',ascending=True).head(5)\n",
    "madrugada1=madrugada_casual['total_per_hour'].sum()\n",
    "\n",
    "madrugada_member=aux[aux['user_type']== 'member'].sort_values('total_per_hour',ascending=True).head(5)\n",
    "madrugada2=madrugada_member['total_per_hour'].sum()\n",
    "\n",
    "\n",
    "round((madrugada2- madrugada1) / madrugada2 * 100,2)\n"
   ]
  },
  {
   "cell_type": "markdown",
   "id": "5146f558",
   "metadata": {},
   "source": [
    "# Perguntas de Negócio"
   ]
  },
  {
   "cell_type": "code",
   "execution_count": 104,
   "id": "e016bfaf",
   "metadata": {
    "ExecuteTime": {
     "end_time": "2022-11-03T20:22:26.584352Z",
     "start_time": "2022-11-03T20:22:26.004515Z"
    }
   },
   "outputs": [],
   "source": [
    "datafilter = data_filters.copy()"
   ]
  },
  {
   "cell_type": "markdown",
   "id": "10fad043",
   "metadata": {},
   "source": [
    "## 1.\tComo os membros anuais e os ciclistas casuais usam as bicicletas da Cyclistic de forma diferente?"
   ]
  },
  {
   "cell_type": "markdown",
   "id": "13312cc0",
   "metadata": {},
   "source": [
    " - Os membros Anuais preferem frequentar centros urbanos onde possuem bares e lojas.\n",
    " - Os Casuais preferem visitar Parques , Praças e Lagos.\n",
    " - Em média os usuários casuais passam mais tempo pedalando, cerca de 66% a mais.\n",
    " - Em média a distância percorrida entre os usuários casuais é 23% maior que os membros anuais.\n",
    " - Houve um aumento de 20% dos usuários casuais usanso as bikes no fim de semana.\n",
    " - Os membros Anuais usam a bike mais cedo as 8:00am enquanto casuais começam usar as 10:00am, enquanto no período da tarde e noite há um fluxo maior de usabilidade entre os dois usuários durante as 17h e 19h.\n",
    " - Durante esses 10 meses mais de 2500 usuários usaram as bicicletas durante a madrugada, entre 00:00 e 5:00 hrs. Os membros Anuais são 30% maior que casuais.\n",
    " - Usuários casuais usam mais bikes no final de semana, cerca de 2% ou 13.500 a mais que anuais.\n",
    " - Comparando os Casuais entre a semana e fim de semana, cerca de 27% ou 200 mil usam durante a semana.\n",
    " - Verão e Outono são as estações mais frequentadas por Casuais e Membros Anuais.\n",
    " - No inverno os usuários casuais representam 0,61% do total de 100% dividido por estações, parece pouco, mas são 20.000 pessoas.\n",
    " "
   ]
  },
  {
   "cell_type": "markdown",
   "id": "ebe2b935",
   "metadata": {
    "ExecuteTime": {
     "end_time": "2022-11-02T19:29:02.914604Z",
     "start_time": "2022-11-02T19:29:02.890453Z"
    }
   },
   "source": [
    "Dashboard com Análises e Mapa interativo para você explorar:\n",
    "\n",
    "https://public.tableau.com/views/DashboardCyclistic_16673119130170/Painel1?:language=pt-BR&:display_count=n&:origin=viz_share_link"
   ]
  },
  {
   "cell_type": "code",
   "execution_count": 105,
   "id": "e705cba4",
   "metadata": {
    "ExecuteTime": {
     "end_time": "2022-11-03T20:22:27.059075Z",
     "start_time": "2022-11-03T20:22:26.591168Z"
    }
   },
   "outputs": [],
   "source": [
    "# Salvando dados limpos\n",
    "data_filters.to_csv('data_clean.csv')\n",
    "\n",
    "# Criando relatório de recomendações de potenciais clientes\n",
    "\n",
    "#apagar colunas desnecessárias para o relatóro\n",
    "cols_drop = ['start_lat','start_lng','end_lat','end_lng','index']\n",
    "casuais= datafilter.drop(cols_drop,axis=1)\n",
    "\n"
   ]
  },
  {
   "cell_type": "code",
   "execution_count": 106,
   "id": "3a521453",
   "metadata": {
    "ExecuteTime": {
     "end_time": "2022-11-03T20:22:28.040353Z",
     "start_time": "2022-11-03T20:22:27.065401Z"
    }
   },
   "outputs": [
    {
     "data": {
      "text/html": [
       "<div>\n",
       "<style scoped>\n",
       "    .dataframe tbody tr th:only-of-type {\n",
       "        vertical-align: middle;\n",
       "    }\n",
       "\n",
       "    .dataframe tbody tr th {\n",
       "        vertical-align: top;\n",
       "    }\n",
       "\n",
       "    .dataframe thead th {\n",
       "        text-align: right;\n",
       "    }\n",
       "</style>\n",
       "<table border=\"1\" class=\"dataframe\">\n",
       "  <thead>\n",
       "    <tr style=\"text-align: right;\">\n",
       "      <th></th>\n",
       "      <th>index</th>\n",
       "      <th>ride_id</th>\n",
       "      <th>rideable_type</th>\n",
       "      <th>start_station_name</th>\n",
       "      <th>end_station_name</th>\n",
       "      <th>user_type</th>\n",
       "      <th>day</th>\n",
       "      <th>month</th>\n",
       "      <th>type_week_categoric</th>\n",
       "      <th>season</th>\n",
       "      <th>trip_start_hour</th>\n",
       "      <th>ride_distance_km</th>\n",
       "      <th>trip_duration</th>\n",
       "    </tr>\n",
       "  </thead>\n",
       "  <tbody>\n",
       "    <tr>\n",
       "      <th>0</th>\n",
       "      <td>20</td>\n",
       "      <td>3479141FF24AD595</td>\n",
       "      <td>docked_bike</td>\n",
       "      <td>Lake Shore Dr &amp; Monroe St</td>\n",
       "      <td>Michigan Ave &amp; Washington St</td>\n",
       "      <td>casual</td>\n",
       "      <td>16</td>\n",
       "      <td>1</td>\n",
       "      <td>weekday</td>\n",
       "      <td>winter</td>\n",
       "      <td>17</td>\n",
       "      <td>0.741092</td>\n",
       "      <td>30.0</td>\n",
       "    </tr>\n",
       "    <tr>\n",
       "      <th>1</th>\n",
       "      <td>33</td>\n",
       "      <td>CDA4546AFB6F34F5</td>\n",
       "      <td>docked_bike</td>\n",
       "      <td>Logan Blvd &amp; Elston Ave</td>\n",
       "      <td>Stockton Dr &amp; Wrightwood Ave</td>\n",
       "      <td>casual</td>\n",
       "      <td>5</td>\n",
       "      <td>1</td>\n",
       "      <td>weekend</td>\n",
       "      <td>winter</td>\n",
       "      <td>13</td>\n",
       "      <td>3.766905</td>\n",
       "      <td>30.0</td>\n",
       "    </tr>\n",
       "    <tr>\n",
       "      <th>2</th>\n",
       "      <td>152</td>\n",
       "      <td>69A8CB6748CA2DB0</td>\n",
       "      <td>docked_bike</td>\n",
       "      <td>Burling St (Halsted) &amp; Diversey Pkwy (Temp)</td>\n",
       "      <td>Broadway &amp; Sheridan Rd</td>\n",
       "      <td>casual</td>\n",
       "      <td>22</td>\n",
       "      <td>1</td>\n",
       "      <td>weekday</td>\n",
       "      <td>winter</td>\n",
       "      <td>15</td>\n",
       "      <td>2.196704</td>\n",
       "      <td>125.0</td>\n",
       "    </tr>\n",
       "    <tr>\n",
       "      <th>3</th>\n",
       "      <td>157</td>\n",
       "      <td>1DD6245D8E796F48</td>\n",
       "      <td>docked_bike</td>\n",
       "      <td>Milwaukee Ave &amp; Grand Ave</td>\n",
       "      <td>Damen Ave &amp; Grand Ave</td>\n",
       "      <td>casual</td>\n",
       "      <td>29</td>\n",
       "      <td>1</td>\n",
       "      <td>weekday</td>\n",
       "      <td>winter</td>\n",
       "      <td>22</td>\n",
       "      <td>2.358020</td>\n",
       "      <td>10.0</td>\n",
       "    </tr>\n",
       "    <tr>\n",
       "      <th>4</th>\n",
       "      <td>189</td>\n",
       "      <td>7C3CF816107BE767</td>\n",
       "      <td>docked_bike</td>\n",
       "      <td>Broadway &amp; Barry Ave</td>\n",
       "      <td>Clark St &amp; Wrightwood Ave</td>\n",
       "      <td>casual</td>\n",
       "      <td>20</td>\n",
       "      <td>1</td>\n",
       "      <td>weekday</td>\n",
       "      <td>winter</td>\n",
       "      <td>10</td>\n",
       "      <td>0.914968</td>\n",
       "      <td>41.0</td>\n",
       "    </tr>\n",
       "    <tr>\n",
       "      <th>...</th>\n",
       "      <td>...</td>\n",
       "      <td>...</td>\n",
       "      <td>...</td>\n",
       "      <td>...</td>\n",
       "      <td>...</td>\n",
       "      <td>...</td>\n",
       "      <td>...</td>\n",
       "      <td>...</td>\n",
       "      <td>...</td>\n",
       "      <td>...</td>\n",
       "      <td>...</td>\n",
       "      <td>...</td>\n",
       "      <td>...</td>\n",
       "    </tr>\n",
       "    <tr>\n",
       "      <th>1293308</th>\n",
       "      <td>3321268</td>\n",
       "      <td>A1004267BA9F6015</td>\n",
       "      <td>docked_bike</td>\n",
       "      <td>Lakefront Trail &amp; Bryn Mawr Ave</td>\n",
       "      <td>Clark St &amp; North Ave</td>\n",
       "      <td>casual</td>\n",
       "      <td>20</td>\n",
       "      <td>11</td>\n",
       "      <td>weekday</td>\n",
       "      <td>fall</td>\n",
       "      <td>16</td>\n",
       "      <td>8.182926</td>\n",
       "      <td>77.0</td>\n",
       "    </tr>\n",
       "    <tr>\n",
       "      <th>1293309</th>\n",
       "      <td>3321270</td>\n",
       "      <td>4B656B6E9922A7F8</td>\n",
       "      <td>docked_bike</td>\n",
       "      <td>Pine Grove Ave &amp; Irving Park Rd</td>\n",
       "      <td>Stetson Ave &amp; South Water St</td>\n",
       "      <td>casual</td>\n",
       "      <td>13</td>\n",
       "      <td>11</td>\n",
       "      <td>weekday</td>\n",
       "      <td>fall</td>\n",
       "      <td>14</td>\n",
       "      <td>7.801792</td>\n",
       "      <td>34.0</td>\n",
       "    </tr>\n",
       "    <tr>\n",
       "      <th>1293310</th>\n",
       "      <td>3321272</td>\n",
       "      <td>B49DB2A84D925151</td>\n",
       "      <td>docked_bike</td>\n",
       "      <td>Green St &amp; Randolph St</td>\n",
       "      <td>Dearborn St &amp; Erie St</td>\n",
       "      <td>casual</td>\n",
       "      <td>9</td>\n",
       "      <td>11</td>\n",
       "      <td>weekday</td>\n",
       "      <td>fall</td>\n",
       "      <td>07</td>\n",
       "      <td>1.969551</td>\n",
       "      <td>9.0</td>\n",
       "    </tr>\n",
       "    <tr>\n",
       "      <th>1293311</th>\n",
       "      <td>3321278</td>\n",
       "      <td>C15DCDB789E7C72B</td>\n",
       "      <td>docked_bike</td>\n",
       "      <td>Paulina St &amp; Flournoy St</td>\n",
       "      <td>Peoria St &amp; Jackson Blvd</td>\n",
       "      <td>casual</td>\n",
       "      <td>23</td>\n",
       "      <td>11</td>\n",
       "      <td>weekday</td>\n",
       "      <td>fall</td>\n",
       "      <td>08</td>\n",
       "      <td>1.696602</td>\n",
       "      <td>10.0</td>\n",
       "    </tr>\n",
       "    <tr>\n",
       "      <th>1293312</th>\n",
       "      <td>3321288</td>\n",
       "      <td>1F63CF7D89D892BF</td>\n",
       "      <td>docked_bike</td>\n",
       "      <td>Lincoln Ave &amp; Sunnyside Ave</td>\n",
       "      <td>Lincoln Ave &amp; Belle Plaine Ave</td>\n",
       "      <td>casual</td>\n",
       "      <td>7</td>\n",
       "      <td>11</td>\n",
       "      <td>weekend</td>\n",
       "      <td>fall</td>\n",
       "      <td>17</td>\n",
       "      <td>0.866539</td>\n",
       "      <td>9.0</td>\n",
       "    </tr>\n",
       "  </tbody>\n",
       "</table>\n",
       "<p>1293313 rows × 13 columns</p>\n",
       "</div>"
      ],
      "text/plain": [
       "           index           ride_id rideable_type  \\\n",
       "0             20  3479141FF24AD595   docked_bike   \n",
       "1             33  CDA4546AFB6F34F5   docked_bike   \n",
       "2            152  69A8CB6748CA2DB0   docked_bike   \n",
       "3            157  1DD6245D8E796F48   docked_bike   \n",
       "4            189  7C3CF816107BE767   docked_bike   \n",
       "...          ...               ...           ...   \n",
       "1293308  3321268  A1004267BA9F6015   docked_bike   \n",
       "1293309  3321270  4B656B6E9922A7F8   docked_bike   \n",
       "1293310  3321272  B49DB2A84D925151   docked_bike   \n",
       "1293311  3321278  C15DCDB789E7C72B   docked_bike   \n",
       "1293312  3321288  1F63CF7D89D892BF   docked_bike   \n",
       "\n",
       "                                  start_station_name  \\\n",
       "0                          Lake Shore Dr & Monroe St   \n",
       "1                            Logan Blvd & Elston Ave   \n",
       "2        Burling St (Halsted) & Diversey Pkwy (Temp)   \n",
       "3                          Milwaukee Ave & Grand Ave   \n",
       "4                               Broadway & Barry Ave   \n",
       "...                                              ...   \n",
       "1293308              Lakefront Trail & Bryn Mawr Ave   \n",
       "1293309              Pine Grove Ave & Irving Park Rd   \n",
       "1293310                       Green St & Randolph St   \n",
       "1293311                     Paulina St & Flournoy St   \n",
       "1293312                  Lincoln Ave & Sunnyside Ave   \n",
       "\n",
       "                       end_station_name user_type  day  month  \\\n",
       "0          Michigan Ave & Washington St    casual   16      1   \n",
       "1          Stockton Dr & Wrightwood Ave    casual    5      1   \n",
       "2                Broadway & Sheridan Rd    casual   22      1   \n",
       "3                 Damen Ave & Grand Ave    casual   29      1   \n",
       "4             Clark St & Wrightwood Ave    casual   20      1   \n",
       "...                                 ...       ...  ...    ...   \n",
       "1293308            Clark St & North Ave    casual   20     11   \n",
       "1293309    Stetson Ave & South Water St    casual   13     11   \n",
       "1293310           Dearborn St & Erie St    casual    9     11   \n",
       "1293311        Peoria St & Jackson Blvd    casual   23     11   \n",
       "1293312  Lincoln Ave & Belle Plaine Ave    casual    7     11   \n",
       "\n",
       "        type_week_categoric  season trip_start_hour  ride_distance_km  \\\n",
       "0                   weekday  winter              17          0.741092   \n",
       "1                   weekend  winter              13          3.766905   \n",
       "2                   weekday  winter              15          2.196704   \n",
       "3                   weekday  winter              22          2.358020   \n",
       "4                   weekday  winter              10          0.914968   \n",
       "...                     ...     ...             ...               ...   \n",
       "1293308             weekday    fall              16          8.182926   \n",
       "1293309             weekday    fall              14          7.801792   \n",
       "1293310             weekday    fall              07          1.969551   \n",
       "1293311             weekday    fall              08          1.696602   \n",
       "1293312             weekend    fall              17          0.866539   \n",
       "\n",
       "         trip_duration  \n",
       "0                 30.0  \n",
       "1                 30.0  \n",
       "2                125.0  \n",
       "3                 10.0  \n",
       "4                 41.0  \n",
       "...                ...  \n",
       "1293308           77.0  \n",
       "1293309           34.0  \n",
       "1293310            9.0  \n",
       "1293311           10.0  \n",
       "1293312            9.0  \n",
       "\n",
       "[1293313 rows x 13 columns]"
      ]
     },
     "execution_count": 106,
     "metadata": {},
     "output_type": "execute_result"
    }
   ],
   "source": [
    "#filtrando apenas clientes casuais\n",
    "casuais = casuais[casuais['user_type'] == 'casual'].reset_index()\n",
    "casuais"
   ]
  },
  {
   "cell_type": "code",
   "execution_count": 107,
   "id": "6fd500f5",
   "metadata": {
    "ExecuteTime": {
     "end_time": "2022-11-03T20:22:29.485633Z",
     "start_time": "2022-11-03T20:22:28.045046Z"
    }
   },
   "outputs": [
    {
     "data": {
      "text/html": [
       "<div>\n",
       "<style scoped>\n",
       "    .dataframe tbody tr th:only-of-type {\n",
       "        vertical-align: middle;\n",
       "    }\n",
       "\n",
       "    .dataframe tbody tr th {\n",
       "        vertical-align: top;\n",
       "    }\n",
       "\n",
       "    .dataframe thead th {\n",
       "        text-align: right;\n",
       "    }\n",
       "</style>\n",
       "<table border=\"1\" class=\"dataframe\">\n",
       "  <thead>\n",
       "    <tr style=\"text-align: right;\">\n",
       "      <th></th>\n",
       "      <th>index</th>\n",
       "      <th>ride_id</th>\n",
       "      <th>rideable_type</th>\n",
       "      <th>start_station_name_x</th>\n",
       "      <th>end_station_name_x</th>\n",
       "      <th>user_type</th>\n",
       "      <th>day</th>\n",
       "      <th>month</th>\n",
       "      <th>type_week_categoric</th>\n",
       "      <th>season</th>\n",
       "      <th>trip_start_hour</th>\n",
       "      <th>ride_distance_km</th>\n",
       "      <th>trip_duration</th>\n",
       "      <th>start_station_name_y</th>\n",
       "      <th>start_user_total</th>\n",
       "      <th>end_station_name_y</th>\n",
       "      <th>end_user_total</th>\n",
       "    </tr>\n",
       "  </thead>\n",
       "  <tbody>\n",
       "    <tr>\n",
       "      <th>0</th>\n",
       "      <td>20</td>\n",
       "      <td>3479141FF24AD595</td>\n",
       "      <td>docked_bike</td>\n",
       "      <td>Lake Shore Dr &amp; Monroe St</td>\n",
       "      <td>Michigan Ave &amp; Washington St</td>\n",
       "      <td>casual</td>\n",
       "      <td>16</td>\n",
       "      <td>1</td>\n",
       "      <td>weekday</td>\n",
       "      <td>winter</td>\n",
       "      <td>17</td>\n",
       "      <td>0.741092</td>\n",
       "      <td>30.0</td>\n",
       "      <td>Unknown</td>\n",
       "      <td>33154</td>\n",
       "      <td>Unknown</td>\n",
       "      <td>41092</td>\n",
       "    </tr>\n",
       "    <tr>\n",
       "      <th>1</th>\n",
       "      <td>33</td>\n",
       "      <td>CDA4546AFB6F34F5</td>\n",
       "      <td>docked_bike</td>\n",
       "      <td>Logan Blvd &amp; Elston Ave</td>\n",
       "      <td>Stockton Dr &amp; Wrightwood Ave</td>\n",
       "      <td>casual</td>\n",
       "      <td>5</td>\n",
       "      <td>1</td>\n",
       "      <td>weekend</td>\n",
       "      <td>winter</td>\n",
       "      <td>13</td>\n",
       "      <td>3.766905</td>\n",
       "      <td>30.0</td>\n",
       "      <td>Streeter Dr &amp; Grand Ave</td>\n",
       "      <td>25621</td>\n",
       "      <td>Streeter Dr &amp; Grand Ave</td>\n",
       "      <td>28139</td>\n",
       "    </tr>\n",
       "    <tr>\n",
       "      <th>2</th>\n",
       "      <td>152</td>\n",
       "      <td>69A8CB6748CA2DB0</td>\n",
       "      <td>docked_bike</td>\n",
       "      <td>Burling St (Halsted) &amp; Diversey Pkwy (Temp)</td>\n",
       "      <td>Broadway &amp; Sheridan Rd</td>\n",
       "      <td>casual</td>\n",
       "      <td>22</td>\n",
       "      <td>1</td>\n",
       "      <td>weekday</td>\n",
       "      <td>winter</td>\n",
       "      <td>15</td>\n",
       "      <td>2.196704</td>\n",
       "      <td>125.0</td>\n",
       "      <td>Lake Shore Dr &amp; Monroe St</td>\n",
       "      <td>19502</td>\n",
       "      <td>Millennium Park</td>\n",
       "      <td>19010</td>\n",
       "    </tr>\n",
       "    <tr>\n",
       "      <th>3</th>\n",
       "      <td>157</td>\n",
       "      <td>1DD6245D8E796F48</td>\n",
       "      <td>docked_bike</td>\n",
       "      <td>Milwaukee Ave &amp; Grand Ave</td>\n",
       "      <td>Damen Ave &amp; Grand Ave</td>\n",
       "      <td>casual</td>\n",
       "      <td>29</td>\n",
       "      <td>1</td>\n",
       "      <td>weekday</td>\n",
       "      <td>winter</td>\n",
       "      <td>22</td>\n",
       "      <td>2.358020</td>\n",
       "      <td>10.0</td>\n",
       "      <td>Millennium Park</td>\n",
       "      <td>18144</td>\n",
       "      <td>Lake Shore Dr &amp; Monroe St</td>\n",
       "      <td>18833</td>\n",
       "    </tr>\n",
       "    <tr>\n",
       "      <th>4</th>\n",
       "      <td>189</td>\n",
       "      <td>7C3CF816107BE767</td>\n",
       "      <td>docked_bike</td>\n",
       "      <td>Broadway &amp; Barry Ave</td>\n",
       "      <td>Clark St &amp; Wrightwood Ave</td>\n",
       "      <td>casual</td>\n",
       "      <td>20</td>\n",
       "      <td>1</td>\n",
       "      <td>weekday</td>\n",
       "      <td>winter</td>\n",
       "      <td>10</td>\n",
       "      <td>0.914968</td>\n",
       "      <td>41.0</td>\n",
       "      <td>Theater on the Lake</td>\n",
       "      <td>14411</td>\n",
       "      <td>Theater on the Lake</td>\n",
       "      <td>16242</td>\n",
       "    </tr>\n",
       "    <tr>\n",
       "      <th>...</th>\n",
       "      <td>...</td>\n",
       "      <td>...</td>\n",
       "      <td>...</td>\n",
       "      <td>...</td>\n",
       "      <td>...</td>\n",
       "      <td>...</td>\n",
       "      <td>...</td>\n",
       "      <td>...</td>\n",
       "      <td>...</td>\n",
       "      <td>...</td>\n",
       "      <td>...</td>\n",
       "      <td>...</td>\n",
       "      <td>...</td>\n",
       "      <td>...</td>\n",
       "      <td>...</td>\n",
       "      <td>...</td>\n",
       "      <td>...</td>\n",
       "    </tr>\n",
       "    <tr>\n",
       "      <th>412</th>\n",
       "      <td>8118</td>\n",
       "      <td>274BCF6A86B82399</td>\n",
       "      <td>docked_bike</td>\n",
       "      <td>Southport Ave &amp; Wellington Ave</td>\n",
       "      <td>Sheffield Ave &amp; Wellington Ave</td>\n",
       "      <td>casual</td>\n",
       "      <td>20</td>\n",
       "      <td>1</td>\n",
       "      <td>weekday</td>\n",
       "      <td>winter</td>\n",
       "      <td>08</td>\n",
       "      <td>0.903513</td>\n",
       "      <td>5.0</td>\n",
       "      <td>Racine Ave &amp; Congress Pkwy</td>\n",
       "      <td>549</td>\n",
       "      <td>Budlong Woods Library</td>\n",
       "      <td>524</td>\n",
       "    </tr>\n",
       "    <tr>\n",
       "      <th>413</th>\n",
       "      <td>8144</td>\n",
       "      <td>9B307A4C01DE90C5</td>\n",
       "      <td>docked_bike</td>\n",
       "      <td>Spaulding Ave &amp; Division St</td>\n",
       "      <td>Austin Blvd &amp; Chicago Ave</td>\n",
       "      <td>casual</td>\n",
       "      <td>1</td>\n",
       "      <td>1</td>\n",
       "      <td>weekday</td>\n",
       "      <td>winter</td>\n",
       "      <td>03</td>\n",
       "      <td>5.486618</td>\n",
       "      <td>423.0</td>\n",
       "      <td>Racine Ave &amp; 15th St</td>\n",
       "      <td>544</td>\n",
       "      <td>New St &amp; Illinois St</td>\n",
       "      <td>523</td>\n",
       "    </tr>\n",
       "    <tr>\n",
       "      <th>414</th>\n",
       "      <td>8172</td>\n",
       "      <td>049561ECBA29B1B0</td>\n",
       "      <td>docked_bike</td>\n",
       "      <td>LaSalle Dr &amp; Huron St</td>\n",
       "      <td>LaSalle St &amp; Illinois St</td>\n",
       "      <td>casual</td>\n",
       "      <td>6</td>\n",
       "      <td>1</td>\n",
       "      <td>weekday</td>\n",
       "      <td>winter</td>\n",
       "      <td>23</td>\n",
       "      <td>0.458308</td>\n",
       "      <td>8.0</td>\n",
       "      <td>Glenwood Ave &amp; Touhy Ave</td>\n",
       "      <td>537</td>\n",
       "      <td>Warren Park East</td>\n",
       "      <td>522</td>\n",
       "    </tr>\n",
       "    <tr>\n",
       "      <th>415</th>\n",
       "      <td>8177</td>\n",
       "      <td>F1B132241E27DBA0</td>\n",
       "      <td>docked_bike</td>\n",
       "      <td>Southport Ave &amp; Roscoe St</td>\n",
       "      <td>Halsted St &amp; Roscoe St</td>\n",
       "      <td>casual</td>\n",
       "      <td>9</td>\n",
       "      <td>1</td>\n",
       "      <td>weekday</td>\n",
       "      <td>winter</td>\n",
       "      <td>22</td>\n",
       "      <td>1.239826</td>\n",
       "      <td>8.0</td>\n",
       "      <td>St. Louis Ave &amp; Balmoral Ave</td>\n",
       "      <td>533</td>\n",
       "      <td>St. Louis Ave &amp; Balmoral Ave</td>\n",
       "      <td>506</td>\n",
       "    </tr>\n",
       "    <tr>\n",
       "      <th>416</th>\n",
       "      <td>8182</td>\n",
       "      <td>123243C1C2972A8F</td>\n",
       "      <td>docked_bike</td>\n",
       "      <td>Lakefront Trail &amp; Bryn Mawr Ave</td>\n",
       "      <td>Lake Shore Dr &amp; Belmont Ave</td>\n",
       "      <td>casual</td>\n",
       "      <td>3</td>\n",
       "      <td>1</td>\n",
       "      <td>weekday</td>\n",
       "      <td>winter</td>\n",
       "      <td>13</td>\n",
       "      <td>4.921132</td>\n",
       "      <td>26.0</td>\n",
       "      <td>Emerald Ave &amp; 28th St</td>\n",
       "      <td>530</td>\n",
       "      <td>Canal St &amp; Harrison St</td>\n",
       "      <td>505</td>\n",
       "    </tr>\n",
       "  </tbody>\n",
       "</table>\n",
       "<p>417 rows × 17 columns</p>\n",
       "</div>"
      ],
      "text/plain": [
       "     index           ride_id rideable_type  \\\n",
       "0       20  3479141FF24AD595   docked_bike   \n",
       "1       33  CDA4546AFB6F34F5   docked_bike   \n",
       "2      152  69A8CB6748CA2DB0   docked_bike   \n",
       "3      157  1DD6245D8E796F48   docked_bike   \n",
       "4      189  7C3CF816107BE767   docked_bike   \n",
       "..     ...               ...           ...   \n",
       "412   8118  274BCF6A86B82399   docked_bike   \n",
       "413   8144  9B307A4C01DE90C5   docked_bike   \n",
       "414   8172  049561ECBA29B1B0   docked_bike   \n",
       "415   8177  F1B132241E27DBA0   docked_bike   \n",
       "416   8182  123243C1C2972A8F   docked_bike   \n",
       "\n",
       "                            start_station_name_x  \\\n",
       "0                      Lake Shore Dr & Monroe St   \n",
       "1                        Logan Blvd & Elston Ave   \n",
       "2    Burling St (Halsted) & Diversey Pkwy (Temp)   \n",
       "3                      Milwaukee Ave & Grand Ave   \n",
       "4                           Broadway & Barry Ave   \n",
       "..                                           ...   \n",
       "412               Southport Ave & Wellington Ave   \n",
       "413                  Spaulding Ave & Division St   \n",
       "414                        LaSalle Dr & Huron St   \n",
       "415                    Southport Ave & Roscoe St   \n",
       "416              Lakefront Trail & Bryn Mawr Ave   \n",
       "\n",
       "                 end_station_name_x user_type  day  month type_week_categoric  \\\n",
       "0      Michigan Ave & Washington St    casual   16      1             weekday   \n",
       "1      Stockton Dr & Wrightwood Ave    casual    5      1             weekend   \n",
       "2            Broadway & Sheridan Rd    casual   22      1             weekday   \n",
       "3             Damen Ave & Grand Ave    casual   29      1             weekday   \n",
       "4         Clark St & Wrightwood Ave    casual   20      1             weekday   \n",
       "..                              ...       ...  ...    ...                 ...   \n",
       "412  Sheffield Ave & Wellington Ave    casual   20      1             weekday   \n",
       "413       Austin Blvd & Chicago Ave    casual    1      1             weekday   \n",
       "414        LaSalle St & Illinois St    casual    6      1             weekday   \n",
       "415          Halsted St & Roscoe St    casual    9      1             weekday   \n",
       "416     Lake Shore Dr & Belmont Ave    casual    3      1             weekday   \n",
       "\n",
       "     season trip_start_hour  ride_distance_km  trip_duration  \\\n",
       "0    winter              17          0.741092           30.0   \n",
       "1    winter              13          3.766905           30.0   \n",
       "2    winter              15          2.196704          125.0   \n",
       "3    winter              22          2.358020           10.0   \n",
       "4    winter              10          0.914968           41.0   \n",
       "..      ...             ...               ...            ...   \n",
       "412  winter              08          0.903513            5.0   \n",
       "413  winter              03          5.486618          423.0   \n",
       "414  winter              23          0.458308            8.0   \n",
       "415  winter              22          1.239826            8.0   \n",
       "416  winter              13          4.921132           26.0   \n",
       "\n",
       "             start_station_name_y  start_user_total  \\\n",
       "0                         Unknown             33154   \n",
       "1         Streeter Dr & Grand Ave             25621   \n",
       "2       Lake Shore Dr & Monroe St             19502   \n",
       "3                 Millennium Park             18144   \n",
       "4             Theater on the Lake             14411   \n",
       "..                            ...               ...   \n",
       "412    Racine Ave & Congress Pkwy               549   \n",
       "413          Racine Ave & 15th St               544   \n",
       "414      Glenwood Ave & Touhy Ave               537   \n",
       "415  St. Louis Ave & Balmoral Ave               533   \n",
       "416         Emerald Ave & 28th St               530   \n",
       "\n",
       "               end_station_name_y  end_user_total  \n",
       "0                         Unknown           41092  \n",
       "1         Streeter Dr & Grand Ave           28139  \n",
       "2                 Millennium Park           19010  \n",
       "3       Lake Shore Dr & Monroe St           18833  \n",
       "4             Theater on the Lake           16242  \n",
       "..                            ...             ...  \n",
       "412         Budlong Woods Library             524  \n",
       "413          New St & Illinois St             523  \n",
       "414              Warren Park East             522  \n",
       "415  St. Louis Ave & Balmoral Ave             506  \n",
       "416        Canal St & Harrison St             505  \n",
       "\n",
       "[417 rows x 17 columns]"
      ]
     },
     "execution_count": 107,
     "metadata": {},
     "output_type": "execute_result"
    }
   ],
   "source": [
    "# contando o total de usuarios por estação\n",
    "aux = casuais[['user_type','start_station_name']].value_counts('start_station_name',ascending=False).reset_index(name='start_user_total')\n",
    "\n",
    "# criando coluna 'ride_id' em aux para fazer o merge\n",
    "aux['ride_id']= casuais['ride_id']\n",
    "\n",
    "# contando o total de usuarios por estação\n",
    "aux2 = casuais[['user_type','end_station_name']].value_counts('end_station_name',ascending=False).reset_index(name='end_user_total')\n",
    "\n",
    "# criando coluna 'ride_id' em aux para fazer o merge\n",
    "aux2['ride_id']= casuais['ride_id']\n",
    "\n",
    "\n",
    "# fazendo o merge com identificador unico, onde a coluna 'start_user_total' é atribuida\n",
    "aux = pd.merge(aux, aux2, how='inner', on='ride_id')\n",
    "\n",
    "\n",
    "# fazendo o merge com identificador unico, onde a coluna 'end_user_total' é atribuida\n",
    "casuais = pd.merge(casuais, aux, how='inner', on='ride_id')\n",
    "\n",
    "# filtrando dados com estações acima de 500 retiradas\n",
    "filtro = casuais['start_user_total']>=500\n",
    "casuais = casuais[filtro]\n",
    "casuais\n",
    "\n",
    "# filtrando dados com estações acima de 500 retiradas\n",
    "filtro = casuais['end_user_total']>=500\n",
    "casuais = casuais[filtro]\n",
    "casuais"
   ]
  },
  {
   "cell_type": "markdown",
   "id": "6ec92dae",
   "metadata": {},
   "source": [
    "- Principais insights dos lugares mais frequentados por casuais:\n",
    "   - A principal estação do ano é o inverno.\n",
    "   - O principal foco é ir patinar no gelo.\n",
    "   - Todos vão no mês de Janeiro.\n",
    "   - A segundas maiores atrações são Teatro, Restaurante e Museu."
   ]
  },
  {
   "cell_type": "code",
   "execution_count": 108,
   "id": "0c47cd2b",
   "metadata": {
    "ExecuteTime": {
     "end_time": "2022-11-03T20:22:29.844550Z",
     "start_time": "2022-11-03T20:22:29.817265Z"
    }
   },
   "outputs": [],
   "source": [
    "# Exportando a tabela com as recomendações\n",
    "casuais.to_csv('recommendations.csv', index=False)"
   ]
  },
  {
   "cell_type": "markdown",
   "id": "8934cb15",
   "metadata": {},
   "source": [
    "## 2.\tPor que os passageiros casuais iriam querer adquirir planos anuais da Cyclistic?\n"
   ]
  },
  {
   "cell_type": "markdown",
   "id": "7f4d9761",
   "metadata": {
    "ExecuteTime": {
     "end_time": "2022-11-02T18:33:40.750784Z",
     "start_time": "2022-11-02T18:33:40.728562Z"
    }
   },
   "source": [
    "- RECOMENDAÇÔES:\n",
    "    - Um plano Anual apenas para o finais de semana.\n",
    "    - Um plano Anual Familia.\n",
    "    - Programa de pontos acumulados em km, ganhando cupons de desconto para trocar com parceiros nos pontos mais frequentados.\n",
    "    - Descontos para Usuários novos.\n",
    "    - Descontos parceria em teatros, cinemas e Museus.\n",
    "    - cashback por completar desafios anuais."
   ]
  },
  {
   "cell_type": "markdown",
   "id": "dfbd75b1",
   "metadata": {},
   "source": [
    "## 3.\tComo a Cyclistic pode usar a mídia digital para influenciar os passageiros casuais a se tornarem membros?\n"
   ]
  },
  {
   "cell_type": "markdown",
   "id": "874b7ba8",
   "metadata": {},
   "source": [
    "- A Cyclistic pode utilizar os meios digitais para influenciar os ciclistas casuais a tornarem-se membros ao falar sobre os impactos positivos na saúde pessoal e na saúde do planeta que o programa de partilha de bicicletas proporciona. \n",
    "\n",
    "- Os clientes podem ser atraídos por ideias de ajudar a apoiar um estilo de vida saudável, melhorar a qualidade do ar, reduzir o tráfego e o congestionamento.\n",
    "\n",
    "- Geração de Leads usando cookies visitas no app/site.\n",
    "\n",
    "- Fazer parcerias com digitais influencers e lançar cupom de desconto para novos usuários.\n",
    "\n",
    "- Propaganda em podcast de saude e bem estar.\n",
    "\n",
    "- Publicidade em todas as redes sociais.\n",
    "\n",
    "- Publicidade atrás dos onibus da prefeitura.\n",
    "\n",
    "- Divulgações de eventos e dicas pelo app.\n",
    "\n"
   ]
  }
 ],
 "metadata": {
  "hide_input": false,
  "kernelspec": {
   "display_name": "Python 3 (ipykernel)",
   "language": "python",
   "name": "python3"
  },
  "language_info": {
   "codemirror_mode": {
    "name": "ipython",
    "version": 3
   },
   "file_extension": ".py",
   "mimetype": "text/x-python",
   "name": "python",
   "nbconvert_exporter": "python",
   "pygments_lexer": "ipython3",
   "version": "3.10.6"
  }
 },
 "nbformat": 4,
 "nbformat_minor": 5
}
